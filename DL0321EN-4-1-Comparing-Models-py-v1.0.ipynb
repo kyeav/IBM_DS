{
    "cells": [
        {
            "cell_type": "markdown",
            "metadata": {
                "button": false,
                "id": "mGC7S1RXODvv",
                "new_sheet": false
            },
            "source": [
                "<a href=\"https://cognitiveclass.ai\"><img src = \"https://s3-api.us-geo.objectstorage.softlayer.net/cf-courses-data/CognitiveClass/Logos/organization_logo/organization_logo.png\" width = 400> </a>\n",
                "\n",
                "<h1 align=center><font size = 5>Peer Review Final Assignment</font></h1>"
            ]
        },
        {
            "cell_type": "markdown",
            "metadata": {
                "button": false,
                "id": "LwnAvRrGODv0",
                "new_sheet": false
            },
            "source": [
                "## Introduction\n"
            ]
        },
        {
            "cell_type": "markdown",
            "metadata": {
                "button": false,
                "id": "m5106g4LODv2",
                "new_sheet": false
            },
            "source": [
                "In this lab, you will build an image classifier using the VGG16 pre-trained model, and you will evaluate it and compare its performance to the model we built in the last module using the ResNet50 pre-trained model. Good luck!"
            ]
        },
        {
            "cell_type": "markdown",
            "metadata": {
                "button": false,
                "id": "AfLyyMumODv4",
                "new_sheet": false
            },
            "source": [
                "## Table of Contents\n",
                "\n",
                "<div class=\"alert alert-block alert-info\" style=\"margin-top: 20px\">\n",
                "\n",
                "<font size = 3>    \n",
                "\n",
                "1. <a href=\"#item41\">Download Data \n",
                "2. <a href=\"#item42\">Part 1</a>\n",
                "3. <a href=\"#item43\">Part 2</a>  \n",
                "4. <a href=\"#item44\">Part 3</a>  \n",
                "\n",
                "</font>\n",
                "    \n",
                "</div>"
            ]
        },
        {
            "cell_type": "markdown",
            "metadata": {
                "button": false,
                "id": "tKTAbHGFODv6",
                "new_sheet": false
            },
            "source": [
                "   "
            ]
        },
        {
            "cell_type": "markdown",
            "metadata": {
                "id": "tZHnMgjOODv7"
            },
            "source": [
                "<a id=\"item41\"></a>"
            ]
        },
        {
            "cell_type": "markdown",
            "metadata": {
                "id": "oateDNLiODv8"
            },
            "source": [
                "## Download Data"
            ]
        },
        {
            "cell_type": "markdown",
            "metadata": {
                "id": "UmvKN168ODv_"
            },
            "source": [
                "Use the <code>wget</code> command to download the data for this assignment from here: https://s3-api.us-geo.objectstorage.softlayer.net/cf-courses-data/CognitiveClass/DL0321EN/data/concrete_data_week4.zip"
            ]
        },
        {
            "cell_type": "markdown",
            "metadata": {
                "id": "ziEHuKbKODwA"
            },
            "source": [
                "Use the following cells to download the data."
            ]
        },
        {
            "cell_type": "code",
            "execution_count": 1,
            "metadata": {
                "colab": {
                    "base_uri": "https://localhost:8080/"
                },
                "id": "K9TrdKi_ODwC",
                "outputId": "25b12bf5-b739-4125-df22-c885cd13a471"
            },
            "outputs": [
                {
                    "name": "stdout",
                    "output_type": "stream",
                    "text": [
                        "--2023-03-13 20:08:40--  https://s3-api.us-geo.objectstorage.softlayer.net/cf-courses-data/CognitiveClass/DL0321EN/data/concrete_data_week4.zip\n",
                        "Resolving s3-api.us-geo.objectstorage.softlayer.net (s3-api.us-geo.objectstorage.softlayer.net)... 67.228.254.196\n",
                        "Connecting to s3-api.us-geo.objectstorage.softlayer.net (s3-api.us-geo.objectstorage.softlayer.net)|67.228.254.196|:443... connected.\n",
                        "HTTP request sent, awaiting response... 200 OK\n",
                        "Length: 261483817 (249M) [application/zip]\n",
                        "Saving to: ‘concrete_data_week4.zip’\n",
                        "\n",
                        "concrete_data_week4 100%[===================>] 249.37M  9.70MB/s    in 20s     \n",
                        "\n",
                        "2023-03-13 20:09:01 (12.7 MB/s) - ‘concrete_data_week4.zip’ saved [261483817/261483817]\n",
                        "\n"
                    ]
                }
            ],
            "source": [
                "!wget https://s3-api.us-geo.objectstorage.softlayer.net/cf-courses-data/CognitiveClass/DL0321EN/data/concrete_data_week4.zip"
            ]
        },
        {
            "cell_type": "code",
            "execution_count": 1,
            "metadata": {
                "ExecuteTime": {
                    "end_time": "2023-09-06T10:59:09.907421Z",
                    "start_time": "2023-09-06T10:59:09.902997Z"
                },
                "colab": {
                    "base_uri": "https://localhost:8080/"
                },
                "id": "yhd6v5LLODwD",
                "outputId": "488a570f-38fc-4068-826a-b2f8516ec7f5"
            },
            "outputs": [],
            "source": [
                "unzip concrete_data_week4.zip"
            ]
        },
        {
            "cell_type": "code",
            "execution_count": 3,
            "metadata": {
                "id": "RAJjFDXBPyxl"
            },
            "outputs": [],
            "source": [
                "!rm -r __MACOSX"
            ]
        },
        {
            "cell_type": "markdown",
            "metadata": {
                "id": "SZucrMsKODwE"
            },
            "source": [
                "After you unzip the data, you fill find the data has already been divided into a train, validation, and test sets."
            ]
        },
        {
            "cell_type": "markdown",
            "metadata": {
                "id": "ypv01EVHODwI"
            },
            "source": [
                "## Part 1"
            ]
        },
        {
            "cell_type": "markdown",
            "metadata": {
                "id": "ftkaCCTXODwJ"
            },
            "source": [
                "In this part, you will design a classifier using the VGG16 pre-trained model. Just like the ResNet50 model, you can import the model <code>VGG16</code> from <code>keras.applications</code>."
            ]
        },
        {
            "cell_type": "markdown",
            "metadata": {
                "id": "8ddOlnvWODwJ"
            },
            "source": [
                "You will essentially build your classifier as follows:\n",
                "1. Import libraries, modules, and packages you will need. Make sure to import the *preprocess_input* function from <code>keras.applications.vgg16</code>.\n",
                "2. Use a batch size of 100 images for both training and validation.\n",
                "3. Construct an ImageDataGenerator for the training set and another one for the validation set. VGG16 was originally trained on 224 × 224 images, so make sure to address that when defining the ImageDataGenerator instances.\n",
                "4. Create a sequential model using Keras. Add VGG16 model to it and dense layer.\n",
                "5. Compile the mode using the adam optimizer and the categorical_crossentropy loss function.\n",
                "6. Fit the model on the augmented data using the ImageDataGenerators."
            ]
        },
        {
            "cell_type": "markdown",
            "metadata": {
                "id": "p6uOoOH7ODwL"
            },
            "source": [
                "Use the following cells to create your classifier."
            ]
        },
        {
            "cell_type": "code",
            "execution_count": 13,
            "metadata": {
                "id": "3q6D3yUjODwL"
            },
            "outputs": [],
            "source": [
                "import keras\n",
                "import numpy as np\n",
                "from keras.models import Sequential\n",
                "from keras.layers import Dense\n",
                "from keras.preprocessing.image import ImageDataGenerator\n",
                "\n",
                "from keras.applications import ResNet50\n",
                "from tensorflow.keras.applications.resnet50 import preprocess_input as resnet_preprocess_input\n",
                "from keras.applications import VGG16\n",
                "from tensorflow.keras.applications.vgg16 import preprocess_input as vgg16_preprocess_input\n",
                "from tensorflow.keras.models import load_model"
            ]
        },
        {
            "cell_type": "code",
            "execution_count": 5,
            "metadata": {
                "id": "s1hKoV-BODwM"
            },
            "outputs": [],
            "source": [
                "num_classes = 2\n",
                "\n",
                "image_resize = 224\n",
                "\n",
                "batch_size_training = 100\n",
                "batch_size_validation = 100"
            ]
        },
        {
            "cell_type": "code",
            "execution_count": 6,
            "metadata": {
                "colab": {
                    "base_uri": "https://localhost:8080/"
                },
                "id": "rDbQPt3GODwM",
                "outputId": "4a43f864-4c77-47e7-901c-b46fe8633808",
                "scrolled": true
            },
            "outputs": [
                {
                    "name": "stdout",
                    "output_type": "stream",
                    "text": [
                        "Found 30001 images belonging to 2 classes.\n",
                        "Found 9501 images belonging to 2 classes.\n"
                    ]
                }
            ],
            "source": [
                "data_generator = ImageDataGenerator(\n",
                "    preprocessing_function=vgg16_preprocess_input,\n",
                ")\n",
                "\n",
                "train_generator = data_generator.flow_from_directory(\n",
                "    'data/train',\n",
                "    target_size=(image_resize, image_resize),\n",
                "    batch_size=batch_size_training,\n",
                "    class_mode='categorical')\n",
                "\n",
                "val_generator = data_generator.flow_from_directory(\n",
                "    'data/valid',\n",
                "    target_size=(image_resize, image_resize),\n",
                "    batch_size=batch_size_training,\n",
                "    class_mode='categorical')\n",
                "\n"
            ]
        },
        {
            "cell_type": "code",
            "execution_count": null,
            "metadata": {
                "colab": {
                    "base_uri": "https://localhost:8080/"
                },
                "id": "gKNCll_KODwN",
                "outputId": "2ae2e77c-4890-4eb9-b937-686b576829ff"
            },
            "outputs": [
                {
                    "name": "stdout",
                    "output_type": "stream",
                    "text": [
                        "[<keras.engine.functional.Functional object at 0x7fe5803beb80>, <keras.layers.core.dense.Dense object at 0x7fe58042abb0>]\n",
                        "Model: \"sequential_2\"\n",
                        "_________________________________________________________________\n",
                        " Layer (type)                Output Shape              Param #   \n",
                        "=================================================================\n",
                        " vgg16 (Functional)          (None, 512)               14714688  \n",
                        "                                                                 \n",
                        " dense_2 (Dense)             (None, 2)                 1026      \n",
                        "                                                                 \n",
                        "=================================================================\n",
                        "Total params: 14,715,714\n",
                        "Trainable params: 1,026\n",
                        "Non-trainable params: 14,714,688\n",
                        "_________________________________________________________________\n"
                    ]
                }
            ],
            "source": [
                "model = Sequential()\n",
                "model.add(VGG16(\n",
                "    include_top=False,\n",
                "    pooling='avg',\n",
                "    weights='imagenet',\n",
                "    ))\n",
                "model.add(Dense(num_classes, activation='softmax'))\n",
                "model.layers[0].trainable = False\n",
                "print(model.layers)\n",
                "model.summary()"
            ]
        },
        {
            "cell_type": "code",
            "execution_count": null,
            "metadata": {
                "id": "50QdvCYKODwN"
            },
            "outputs": [],
            "source": [
                "model.compile(optimizer='adam', loss='categorical_crossentropy', metrics=['accuracy'])"
            ]
        },
        {
            "cell_type": "code",
            "execution_count": null,
            "metadata": {
                "colab": {
                    "base_uri": "https://localhost:8080/"
                },
                "id": "B0BpZdndODwO",
                "outputId": "bc906b6a-b0cf-421d-b268-cb7224b36db6"
            },
            "outputs": [
                {
                    "name": "stderr",
                    "output_type": "stream",
                    "text": [
                        "<ipython-input-19-1e79dc354f6d>:5: UserWarning: `Model.fit_generator` is deprecated and will be removed in a future version. Please use `Model.fit`, which supports generators.\n",
                        "  fit_history = model.fit_generator(\n"
                    ]
                },
                {
                    "name": "stdout",
                    "output_type": "stream",
                    "text": [
                        "Epoch 1/2\n",
                        "301/301 [==============================] - 169s 558ms/step - loss: 0.1325 - accuracy: 0.9602 - val_loss: 0.0361 - val_accuracy: 0.9926\n",
                        "Epoch 2/2\n",
                        "301/301 [==============================] - 168s 557ms/step - loss: 0.0268 - accuracy: 0.9940 - val_loss: 0.0212 - val_accuracy: 0.9949\n"
                    ]
                }
            ],
            "source": [
                "steps_per_epoch_training = len(train_generator)\n",
                "steps_per_epoch_validation = len(val_generator)\n",
                "num_epochs = 2\n",
                "\n",
                "fit_history = model.fit_generator(\n",
                "    train_generator,\n",
                "    steps_per_epoch=steps_per_epoch_training,\n",
                "    epochs=num_epochs,\n",
                "    validation_data=val_generator,\n",
                "    validation_steps=steps_per_epoch_validation,\n",
                "    verbose=1,\n",
                ")"
            ]
        },
        {
            "cell_type": "code",
            "execution_count": null,
            "metadata": {
                "id": "kmiGbMG6ODwO"
            },
            "outputs": [],
            "source": [
                "model.save('classifier_vgg16_model.h5')"
            ]
        },
        {
            "cell_type": "markdown",
            "metadata": {
                "id": "TlR7igVuODwS"
            },
            "source": [
                "## Part 2"
            ]
        },
        {
            "cell_type": "markdown",
            "metadata": {
                "id": "8LDLbcKUODwU"
            },
            "source": [
                "In this part, you will evaluate your deep learning models on a test data. For this part, you will need to do the following:\n",
                "\n",
                "1. Load your saved model that was built using the ResNet50 model. \n",
                "2. Construct an ImageDataGenerator for the test set. For this ImageDataGenerator instance, you only need to pass the directory of the test images, target size, and the **shuffle** parameter and set it to False.\n",
                "3. Use the **evaluate_generator** method to evaluate your models on the test data, by passing the above ImageDataGenerator as an argument. You can learn more about **evaluate_generator** [here](https://keras.io/models/sequential/).\n",
                "4. Print the performance of the classifier using the VGG16 pre-trained model.\n",
                "5. Print the performance of the classifier using the ResNet pre-trained model.\n"
            ]
        },
        {
            "cell_type": "markdown",
            "metadata": {
                "id": "gIPRanVNODwV"
            },
            "source": [
                "Use the following cells to evaluate your models."
            ]
        },
        {
            "cell_type": "code",
            "execution_count": 7,
            "metadata": {
                "colab": {
                    "base_uri": "https://localhost:8080/"
                },
                "id": "qfvl-GBJODwV",
                "outputId": "4358f917-02cc-4718-ec13-8df02ebad44c"
            },
            "outputs": [
                {
                    "name": "stdout",
                    "output_type": "stream",
                    "text": [
                        "Mounted at /content/gdrive\n"
                    ]
                }
            ],
            "source": [
                "from google.colab import drive\n",
                "drive.mount('/content/gdrive')"
            ]
        },
        {
            "cell_type": "code",
            "execution_count": 8,
            "metadata": {
                "id": "bsC9EmcbODwW"
            },
            "outputs": [],
            "source": [
                "!cp /content/gdrive/MyDrive/classifier_resnet_model.h5 .\n",
                "!cp /content/gdrive/MyDrive/classifier_vgg16_model.h5 ."
            ]
        },
        {
            "cell_type": "code",
            "execution_count": 9,
            "metadata": {
                "id": "q5bAIcV0ODwW"
            },
            "outputs": [],
            "source": [
                "model_resnet50 = load_model('classifier_resnet_model.h5')\n",
                "model = load_model('classifier_vgg16_model.h5')"
            ]
        },
        {
            "cell_type": "code",
            "execution_count": 10,
            "metadata": {
                "colab": {
                    "base_uri": "https://localhost:8080/"
                },
                "id": "RyoQPkxpODwW",
                "outputId": "819da232-505c-45ea-9812-fa734744e0d6"
            },
            "outputs": [
                {
                    "name": "stdout",
                    "output_type": "stream",
                    "text": [
                        "Found 500 images belonging to 2 classes.\n",
                        "Found 500 images belonging to 2 classes.\n"
                    ]
                }
            ],
            "source": [
                "data_generator_resnet = ImageDataGenerator(\n",
                "    preprocessing_function=resnet_preprocess_input\n",
                ")\n",
                "\n",
                "test_generator_resnet = data_generator_resnet.flow_from_directory(\n",
                "    'data/test',\n",
                "    target_size=(image_resize, image_resize),\n",
                "    batch_size=batch_size_training,\n",
                "    class_mode='categorical', shuffle=False)\n",
                "\n",
                "test_generator_vgg16 = data_generator.flow_from_directory(\n",
                "    'data/test',\n",
                "    target_size=(image_resize, image_resize),\n",
                "    batch_size=batch_size_training,\n",
                "    class_mode='categorical', shuffle=False)"
            ]
        },
        {
            "cell_type": "code",
            "execution_count": null,
            "metadata": {
                "colab": {
                    "base_uri": "https://localhost:8080/"
                },
                "id": "ACfi3ktDeLiz",
                "outputId": "8c8ad00c-8232-429b-d031-320c597304f2"
            },
            "outputs": [
                {
                    "name": "stderr",
                    "output_type": "stream",
                    "text": [
                        "<ipython-input-42-0ae825e57552>:1: UserWarning: `Model.evaluate_generator` is deprecated and will be removed in a future version. Please use `Model.evaluate`, which supports generators.\n",
                        "  scores = model.evaluate_generator(test_generator_vgg16, len(test_generator_vgg16))\n"
                    ]
                },
                {
                    "name": "stdout",
                    "output_type": "stream",
                    "text": [
                        "VGG16: Test Loss = 0.01806773990392685, Test Accuracy = 0.9959999918937683\n"
                    ]
                }
            ],
            "source": [
                "scores = model.evaluate_generator(test_generator_vgg16, len(test_generator_vgg16))\n",
                "print('VGG16: Test Loss = {}, Test Accuracy = {}'.format(scores[0], scores[1]))"
            ]
        },
        {
            "cell_type": "code",
            "execution_count": null,
            "metadata": {
                "colab": {
                    "base_uri": "https://localhost:8080/"
                },
                "id": "iS7EAx8qhZPj",
                "outputId": "e1a58913-4fb9-464d-9c40-2837e352b22c"
            },
            "outputs": [
                {
                    "name": "stderr",
                    "output_type": "stream",
                    "text": [
                        "<ipython-input-45-a63ed30530b9>:1: UserWarning: `Model.evaluate_generator` is deprecated and will be removed in a future version. Please use `Model.evaluate`, which supports generators.\n",
                        "  scores = model_resnet50.evaluate_generator(test_generator_resnet, len(test_generator_resnet))\n"
                    ]
                },
                {
                    "name": "stdout",
                    "output_type": "stream",
                    "text": [
                        "Resnet50: Test Loss = 0.0022436468861997128, Test Accuracy = 1.0\n"
                    ]
                }
            ],
            "source": [
                "scores = model_resnet50.evaluate_generator(test_generator_resnet, len(test_generator_resnet))\n",
                "print('Resnet50: Test Loss = {}, Test Accuracy = {}'.format(scores[0], scores[1]))"
            ]
        },
        {
            "cell_type": "markdown",
            "metadata": {
                "id": "DUxLY73fODwY"
            },
            "source": [
                "## Part 3"
            ]
        },
        {
            "cell_type": "markdown",
            "metadata": {
                "id": "IfkbLbbAODwZ"
            },
            "source": [
                "In this model, you will predict whether the images in the test data are images of cracked concrete or not. You will do the following:\n",
                "\n",
                "1. Use the **predict_generator** method to predict the class of the images in the test data, by passing the test data ImageDataGenerator instance defined in the previous part as an argument. You can learn more about the **predict_generator** method [here](https://keras.io/models/sequential/).\n",
                "2. Report the class predictions of the first five images in the test set. You should print something list this:\n",
                "\n",
                "<center>\n",
                "    <ul style=\"list-style-type:none\">\n",
                "        <li>Positive</li>  \n",
                "        <li>Negative</li> \n",
                "        <li>Positive</li>\n",
                "        <li>Positive</li>\n",
                "        <li>Negative</li>\n",
                "    </ul>\n",
                "</center>"
            ]
        },
        {
            "cell_type": "markdown",
            "metadata": {
                "id": "S_b13hItODwZ"
            },
            "source": [
                "Use the following cells to make your predictions."
            ]
        },
        {
            "cell_type": "code",
            "execution_count": 21,
            "metadata": {
                "colab": {
                    "base_uri": "https://localhost:8080/"
                },
                "id": "TswwayAoODwa",
                "outputId": "1ec5fa3f-74b8-47b7-b82d-da8745a0c570"
            },
            "outputs": [
                {
                    "name": "stderr",
                    "output_type": "stream",
                    "text": [
                        "<ipython-input-21-2f572db94d38>:1: UserWarning: `Model.predict_generator` is deprecated and will be removed in a future version. Please use `Model.predict`, which supports generators.\n",
                        "  predictions_vgg16 = (np.argmax(model.predict_generator(test_generator_vgg16, verbose=0), axis=1))\n"
                    ]
                },
                {
                    "name": "stdout",
                    "output_type": "stream",
                    "text": [
                        "Model VGG16 Predictions of first 5 test images.\n",
                        "Image 1, Prediction: Negative\n",
                        "Image 2, Prediction: Negative\n",
                        "Image 3, Prediction: Negative\n",
                        "Image 4, Prediction: Negative\n",
                        "Image 5, Prediction: Negative\n"
                    ]
                }
            ],
            "source": [
                "predictions_vgg16 = (np.argmax(model.predict_generator(test_generator_vgg16, verbose=0), axis=1))\n",
                "print('Model VGG16 Predictions of first 5 test images.')\n",
                "for i in range(5):\n",
                "  if predictions_vgg16[i] == 0:\n",
                "    print('Image {}, Prediction: Negative'.format(i+1))\n",
                "  else:\n",
                "    print('Image {}, Prediction: Positive'.format(i+1))"
            ]
        },
        {
            "cell_type": "code",
            "execution_count": 22,
            "metadata": {
                "colab": {
                    "base_uri": "https://localhost:8080/"
                },
                "id": "7RnNkn1rODwa",
                "outputId": "55e27240-2ae7-4804-976f-d828767aa985"
            },
            "outputs": [
                {
                    "name": "stderr",
                    "output_type": "stream",
                    "text": [
                        "<ipython-input-22-7c0e021f2af8>:1: UserWarning: `Model.predict_generator` is deprecated and will be removed in a future version. Please use `Model.predict`, which supports generators.\n",
                        "  predictions_resnet = np.argmax(model_resnet50.predict_generator(test_generator_resnet, verbose=0), axis=1)\n"
                    ]
                },
                {
                    "name": "stdout",
                    "output_type": "stream",
                    "text": [
                        "Model RESNET50 Predictions of first 5 test images.\n",
                        "Image 1, Prediction: Negative\n",
                        "Image 2, Prediction: Negative\n",
                        "Image 3, Prediction: Negative\n",
                        "Image 4, Prediction: Negative\n",
                        "Image 5, Prediction: Negative\n"
                    ]
                }
            ],
            "source": [
                "predictions_resnet = np.argmax(model_resnet50.predict_generator(test_generator_resnet, verbose=0), axis=1)\n",
                "print('Model RESNET50 Predictions of first 5 test images.')\n",
                "for i in range(5):\n",
                "  if predictions_resnet[i] == 0:\n",
                "    print('Image {}, Prediction: Negative'.format(i+1))\n",
                "  else:\n",
                "    print('Image {}, Prediction: Positive'.format(i+1))"
            ]
        },
        {
            "cell_type": "markdown",
            "metadata": {
                "button": false,
                "id": "Wc6PHxyzODwc",
                "new_sheet": false
            },
            "source": [
                "### Thank you for completing this lab!\n",
                "\n",
                "This notebook was created by Alex Aklson."
            ]
        },
        {
            "cell_type": "markdown",
            "metadata": {
                "button": false,
                "id": "uyg6fnyYODwd",
                "new_sheet": false
            },
            "source": [
                "This notebook is part of a course on **Coursera** called *AI Capstone Project with Deep Learning*. If you accessed this notebook outside the course, you can take this course online by clicking [here](https://cocl.us/DL0321EN_Coursera_Week4_LAB1)."
            ]
        },
        {
            "cell_type": "markdown",
            "metadata": {},
            "source": [
                "<hr>\n",
                "\n",
                "Copyright &copy; 2020 [IBM Developer Skills Network](https://cognitiveclass.ai/?utm_source=bducopyrightlink&utm_medium=dswb&utm_campaign=bdu). This notebook and its source code are released under the terms of the [MIT License](https://bigdatauniversity.com/mit-license/)."
            ]
        }
    ],
    "metadata": {
        "accelerator": "GPU",
        "colab": {
            "provenance": []
        },
        "gpuClass": "standard",
        "kernelspec": {
            "display_name": "base",
            "language": "python",
            "name": "python3"
        },
        "language_info": {
            "codemirror_mode": {
                "name": "ipython",
                "version": 3
            },
            "file_extension": ".py",
            "mimetype": "text/x-python",
            "name": "python",
            "nbconvert_exporter": "python",
            "pygments_lexer": "ipython3",
            "version": "3.11.7"
        },
        "varInspector": {
            "cols": {
                "lenName": 16,
                "lenType": 16,
                "lenVar": 40
            },
            "kernels_config": {
                "python": {
                    "delete_cmd_postfix": "",
                    "delete_cmd_prefix": "del ",
                    "library": "var_list.py",
                    "varRefreshCmd": "print(var_dic_list())"
                },
                "r": {
                    "delete_cmd_postfix": ") ",
                    "delete_cmd_prefix": "rm(",
                    "library": "var_list.r",
                    "varRefreshCmd": "cat(var_dic_list()) "
                }
            },
            "types_to_exclude": [
                "module",
                "function",
                "builtin_function_or_method",
                "instance",
                "_Feature"
            ],
            "window_display": false
        }
    },
    "nbformat": 4,
    "nbformat_minor": 1
}

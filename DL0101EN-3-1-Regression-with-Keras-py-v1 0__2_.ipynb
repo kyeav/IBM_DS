{
 "cells": [
  {
   "cell_type": "markdown",
   "metadata": {},
   "source": [
    "<a href=\"https://cognitiveclass.ai\"><img src=\"https://cf-courses-data.s3.us.cloud-object-storage.appdomain.cloud/IBMDeveloperSkillsNetwork-DL0101EN-SkillsNetwork/images/IDSN-logo.png\" width=\"400\"> </a>\n",
    "\n",
    "<h1 align=center><font size = 5>Regression Models with Keras</font></h1>\n"
   ]
  },
  {
   "cell_type": "markdown",
   "metadata": {},
   "source": [
    "## Introduction\n"
   ]
  },
  {
   "cell_type": "markdown",
   "metadata": {},
   "source": [
    "As we discussed in the videos, despite the popularity of more powerful libraries such as PyToch and TensorFlow, they are not easy to use and have a steep learning curve. So, for people who are just starting to learn deep learning, there is no better library to use other than the Keras library. \n",
    "\n",
    "Keras is a high-level API for building deep learning models. It has gained favor for its ease of use and syntactic simplicity facilitating fast development. As you will see in this lab and the other labs in this course, building a very complex deep learning network can be achieved with Keras with only few lines of code. You will appreciate Keras even more, once you learn how to build deep models using PyTorch and TensorFlow in the other courses.\n",
    "\n",
    "So, in this lab, you will learn how to use the Keras library to build a regression model.\n"
   ]
  },
  {
   "cell_type": "markdown",
   "metadata": {},
   "source": [
    "<h2>Regression Models with Keras</h2>\n",
    "\n",
    "<h3>Objective for this Notebook<h3>    \n",
    "<h5> 1. How to use the Keras library to build a regression model.</h5>\n",
    "<h5> 2. Download and Clean dataset </h5>\n",
    "<h5> 3. Build a Neural Network </h5>\n",
    "<h5> 4. Train and Test the Network. </h5>     \n",
    "\n"
   ]
  },
  {
   "cell_type": "markdown",
   "metadata": {},
   "source": [
    "## Table of Contents\n",
    "\n",
    "<div class=\"alert alert-block alert-info\" style=\"margin-top: 20px\">\n",
    "\n",
    "<font size = 3>\n",
    "    \n",
    "1. <a href=\"#item31\">Download and Clean Dataset</a>  \n",
    "2. <a href=\"#item32\">Import Keras</a>  \n",
    "3. <a href=\"#item33\">Build a Neural Network</a>  \n",
    "4. <a href=\"#item34\">Train and Test the Network</a>  \n",
    "\n",
    "</font>\n",
    "</div>\n"
   ]
  },
  {
   "cell_type": "markdown",
   "metadata": {},
   "source": [
    "<a id=\"item31\"></a>\n"
   ]
  },
  {
   "cell_type": "markdown",
   "metadata": {},
   "source": [
    "## Download and Clean Dataset\n"
   ]
  },
  {
   "cell_type": "markdown",
   "metadata": {},
   "source": [
    "Let's start by importing the <em>pandas</em> and the Numpy libraries.\n"
   ]
  },
  {
   "cell_type": "code",
   "execution_count": null,
   "metadata": {},
   "outputs": [],
   "source": [
    "# All Libraries required for this lab are listed below. The libraries pre-installed on Skills Network Labs are commented. \n",
    "# If you run this notebook on a different environment, e.g. your desktop, you may need to uncomment and install certain libraries.\n",
    "\n",
    "#!pip install numpy==1.21.4\n",
    "#!pip install pandas==1.3.4\n",
    "#!pip install keras==2.1.6"
   ]
  },
  {
   "cell_type": "code",
   "execution_count": 5,
   "metadata": {
    "tags": []
   },
   "outputs": [],
   "source": [
    "import pandas as pd\n",
    "import numpy as np\n",
    "\n",
    "import warnings\n",
    "warnings.simplefilter('ignore', FutureWarning)"
   ]
  },
  {
   "cell_type": "markdown",
   "metadata": {},
   "source": [
    "We will be playing around with the same dataset that we used in the videos.\n",
    "\n",
    "<strong>The dataset is about the compressive strength of different samples of concrete based on the volumes of the different ingredients that were used to make them. Ingredients include:</strong>\n",
    "\n",
    "<strong>1. Cement</strong>\n",
    "\n",
    "<strong>2. Blast Furnace Slag</strong>\n",
    "\n",
    "<strong>3. Fly Ash</strong>\n",
    "\n",
    "<strong>4. Water</strong>\n",
    "\n",
    "<strong>5. Superplasticizer</strong>\n",
    "\n",
    "<strong>6. Coarse Aggregate</strong>\n",
    "\n",
    "<strong>7. Fine Aggregate</strong>\n"
   ]
  },
  {
   "cell_type": "markdown",
   "metadata": {},
   "source": [
    "Let's download the data and read it into a <em>pandas</em> dataframe.\n"
   ]
  },
  {
   "cell_type": "code",
   "execution_count": 6,
   "metadata": {
    "tags": []
   },
   "outputs": [
    {
     "data": {
      "text/html": [
       "<div>\n",
       "<style scoped>\n",
       "    .dataframe tbody tr th:only-of-type {\n",
       "        vertical-align: middle;\n",
       "    }\n",
       "\n",
       "    .dataframe tbody tr th {\n",
       "        vertical-align: top;\n",
       "    }\n",
       "\n",
       "    .dataframe thead th {\n",
       "        text-align: right;\n",
       "    }\n",
       "</style>\n",
       "<table border=\"1\" class=\"dataframe\">\n",
       "  <thead>\n",
       "    <tr style=\"text-align: right;\">\n",
       "      <th></th>\n",
       "      <th>Cement</th>\n",
       "      <th>Blast Furnace Slag</th>\n",
       "      <th>Fly Ash</th>\n",
       "      <th>Water</th>\n",
       "      <th>Superplasticizer</th>\n",
       "      <th>Coarse Aggregate</th>\n",
       "      <th>Fine Aggregate</th>\n",
       "      <th>Age</th>\n",
       "      <th>Strength</th>\n",
       "    </tr>\n",
       "  </thead>\n",
       "  <tbody>\n",
       "    <tr>\n",
       "      <th>0</th>\n",
       "      <td>540.0</td>\n",
       "      <td>0.0</td>\n",
       "      <td>0.0</td>\n",
       "      <td>162.0</td>\n",
       "      <td>2.5</td>\n",
       "      <td>1040.0</td>\n",
       "      <td>676.0</td>\n",
       "      <td>28</td>\n",
       "      <td>79.99</td>\n",
       "    </tr>\n",
       "    <tr>\n",
       "      <th>1</th>\n",
       "      <td>540.0</td>\n",
       "      <td>0.0</td>\n",
       "      <td>0.0</td>\n",
       "      <td>162.0</td>\n",
       "      <td>2.5</td>\n",
       "      <td>1055.0</td>\n",
       "      <td>676.0</td>\n",
       "      <td>28</td>\n",
       "      <td>61.89</td>\n",
       "    </tr>\n",
       "    <tr>\n",
       "      <th>2</th>\n",
       "      <td>332.5</td>\n",
       "      <td>142.5</td>\n",
       "      <td>0.0</td>\n",
       "      <td>228.0</td>\n",
       "      <td>0.0</td>\n",
       "      <td>932.0</td>\n",
       "      <td>594.0</td>\n",
       "      <td>270</td>\n",
       "      <td>40.27</td>\n",
       "    </tr>\n",
       "    <tr>\n",
       "      <th>3</th>\n",
       "      <td>332.5</td>\n",
       "      <td>142.5</td>\n",
       "      <td>0.0</td>\n",
       "      <td>228.0</td>\n",
       "      <td>0.0</td>\n",
       "      <td>932.0</td>\n",
       "      <td>594.0</td>\n",
       "      <td>365</td>\n",
       "      <td>41.05</td>\n",
       "    </tr>\n",
       "    <tr>\n",
       "      <th>4</th>\n",
       "      <td>198.6</td>\n",
       "      <td>132.4</td>\n",
       "      <td>0.0</td>\n",
       "      <td>192.0</td>\n",
       "      <td>0.0</td>\n",
       "      <td>978.4</td>\n",
       "      <td>825.5</td>\n",
       "      <td>360</td>\n",
       "      <td>44.30</td>\n",
       "    </tr>\n",
       "  </tbody>\n",
       "</table>\n",
       "</div>"
      ],
      "text/plain": [
       "   Cement  Blast Furnace Slag  Fly Ash  Water  Superplasticizer  \\\n",
       "0   540.0                 0.0      0.0  162.0               2.5   \n",
       "1   540.0                 0.0      0.0  162.0               2.5   \n",
       "2   332.5               142.5      0.0  228.0               0.0   \n",
       "3   332.5               142.5      0.0  228.0               0.0   \n",
       "4   198.6               132.4      0.0  192.0               0.0   \n",
       "\n",
       "   Coarse Aggregate  Fine Aggregate  Age  Strength  \n",
       "0            1040.0           676.0   28     79.99  \n",
       "1            1055.0           676.0   28     61.89  \n",
       "2             932.0           594.0  270     40.27  \n",
       "3             932.0           594.0  365     41.05  \n",
       "4             978.4           825.5  360     44.30  "
      ]
     },
     "execution_count": 6,
     "metadata": {},
     "output_type": "execute_result"
    }
   ],
   "source": [
    "concrete_data = pd.read_csv('https://s3-api.us-geo.objectstorage.softlayer.net/cf-courses-data/CognitiveClass/DL0101EN/labs/data/concrete_data.csv')\n",
    "concrete_data.head()"
   ]
  },
  {
   "cell_type": "markdown",
   "metadata": {},
   "source": [
    "So the first concrete sample has 540 cubic meter of cement, 0 cubic meter of blast furnace slag, 0 cubic meter of fly ash, 162 cubic meter of water, 2.5 cubic meter of superplaticizer, 1040 cubic meter of coarse aggregate, 676 cubic meter of fine aggregate. Such a concrete mix which is 28 days old, has a compressive strength of 79.99 MPa. \n"
   ]
  },
  {
   "cell_type": "code",
   "execution_count": 7,
   "metadata": {
    "tags": []
   },
   "outputs": [
    {
     "data": {
      "text/plain": [
       "(1030, 9)"
      ]
     },
     "execution_count": 7,
     "metadata": {},
     "output_type": "execute_result"
    }
   ],
   "source": [
    "concrete_data.shape"
   ]
  },
  {
   "cell_type": "markdown",
   "metadata": {},
   "source": [
    "#### Let's check how many data points we have.\n"
   ]
  },
  {
   "cell_type": "markdown",
   "metadata": {},
   "source": [
    "So, there are approximately 1000 samples to train our model on. Because of the few samples, we have to be careful not to overfit the training data.\n"
   ]
  },
  {
   "cell_type": "markdown",
   "metadata": {},
   "source": [
    "Let's check the dataset for any missing values.\n"
   ]
  },
  {
   "cell_type": "code",
   "execution_count": 8,
   "metadata": {
    "tags": []
   },
   "outputs": [
    {
     "data": {
      "text/html": [
       "<div>\n",
       "<style scoped>\n",
       "    .dataframe tbody tr th:only-of-type {\n",
       "        vertical-align: middle;\n",
       "    }\n",
       "\n",
       "    .dataframe tbody tr th {\n",
       "        vertical-align: top;\n",
       "    }\n",
       "\n",
       "    .dataframe thead th {\n",
       "        text-align: right;\n",
       "    }\n",
       "</style>\n",
       "<table border=\"1\" class=\"dataframe\">\n",
       "  <thead>\n",
       "    <tr style=\"text-align: right;\">\n",
       "      <th></th>\n",
       "      <th>Cement</th>\n",
       "      <th>Blast Furnace Slag</th>\n",
       "      <th>Fly Ash</th>\n",
       "      <th>Water</th>\n",
       "      <th>Superplasticizer</th>\n",
       "      <th>Coarse Aggregate</th>\n",
       "      <th>Fine Aggregate</th>\n",
       "      <th>Age</th>\n",
       "      <th>Strength</th>\n",
       "    </tr>\n",
       "  </thead>\n",
       "  <tbody>\n",
       "    <tr>\n",
       "      <th>count</th>\n",
       "      <td>1030.000000</td>\n",
       "      <td>1030.000000</td>\n",
       "      <td>1030.000000</td>\n",
       "      <td>1030.000000</td>\n",
       "      <td>1030.000000</td>\n",
       "      <td>1030.000000</td>\n",
       "      <td>1030.000000</td>\n",
       "      <td>1030.000000</td>\n",
       "      <td>1030.000000</td>\n",
       "    </tr>\n",
       "    <tr>\n",
       "      <th>mean</th>\n",
       "      <td>281.167864</td>\n",
       "      <td>73.895825</td>\n",
       "      <td>54.188350</td>\n",
       "      <td>181.567282</td>\n",
       "      <td>6.204660</td>\n",
       "      <td>972.918932</td>\n",
       "      <td>773.580485</td>\n",
       "      <td>45.662136</td>\n",
       "      <td>35.817961</td>\n",
       "    </tr>\n",
       "    <tr>\n",
       "      <th>std</th>\n",
       "      <td>104.506364</td>\n",
       "      <td>86.279342</td>\n",
       "      <td>63.997004</td>\n",
       "      <td>21.354219</td>\n",
       "      <td>5.973841</td>\n",
       "      <td>77.753954</td>\n",
       "      <td>80.175980</td>\n",
       "      <td>63.169912</td>\n",
       "      <td>16.705742</td>\n",
       "    </tr>\n",
       "    <tr>\n",
       "      <th>min</th>\n",
       "      <td>102.000000</td>\n",
       "      <td>0.000000</td>\n",
       "      <td>0.000000</td>\n",
       "      <td>121.800000</td>\n",
       "      <td>0.000000</td>\n",
       "      <td>801.000000</td>\n",
       "      <td>594.000000</td>\n",
       "      <td>1.000000</td>\n",
       "      <td>2.330000</td>\n",
       "    </tr>\n",
       "    <tr>\n",
       "      <th>25%</th>\n",
       "      <td>192.375000</td>\n",
       "      <td>0.000000</td>\n",
       "      <td>0.000000</td>\n",
       "      <td>164.900000</td>\n",
       "      <td>0.000000</td>\n",
       "      <td>932.000000</td>\n",
       "      <td>730.950000</td>\n",
       "      <td>7.000000</td>\n",
       "      <td>23.710000</td>\n",
       "    </tr>\n",
       "    <tr>\n",
       "      <th>50%</th>\n",
       "      <td>272.900000</td>\n",
       "      <td>22.000000</td>\n",
       "      <td>0.000000</td>\n",
       "      <td>185.000000</td>\n",
       "      <td>6.400000</td>\n",
       "      <td>968.000000</td>\n",
       "      <td>779.500000</td>\n",
       "      <td>28.000000</td>\n",
       "      <td>34.445000</td>\n",
       "    </tr>\n",
       "    <tr>\n",
       "      <th>75%</th>\n",
       "      <td>350.000000</td>\n",
       "      <td>142.950000</td>\n",
       "      <td>118.300000</td>\n",
       "      <td>192.000000</td>\n",
       "      <td>10.200000</td>\n",
       "      <td>1029.400000</td>\n",
       "      <td>824.000000</td>\n",
       "      <td>56.000000</td>\n",
       "      <td>46.135000</td>\n",
       "    </tr>\n",
       "    <tr>\n",
       "      <th>max</th>\n",
       "      <td>540.000000</td>\n",
       "      <td>359.400000</td>\n",
       "      <td>200.100000</td>\n",
       "      <td>247.000000</td>\n",
       "      <td>32.200000</td>\n",
       "      <td>1145.000000</td>\n",
       "      <td>992.600000</td>\n",
       "      <td>365.000000</td>\n",
       "      <td>82.600000</td>\n",
       "    </tr>\n",
       "  </tbody>\n",
       "</table>\n",
       "</div>"
      ],
      "text/plain": [
       "            Cement  Blast Furnace Slag      Fly Ash        Water  \\\n",
       "count  1030.000000         1030.000000  1030.000000  1030.000000   \n",
       "mean    281.167864           73.895825    54.188350   181.567282   \n",
       "std     104.506364           86.279342    63.997004    21.354219   \n",
       "min     102.000000            0.000000     0.000000   121.800000   \n",
       "25%     192.375000            0.000000     0.000000   164.900000   \n",
       "50%     272.900000           22.000000     0.000000   185.000000   \n",
       "75%     350.000000          142.950000   118.300000   192.000000   \n",
       "max     540.000000          359.400000   200.100000   247.000000   \n",
       "\n",
       "       Superplasticizer  Coarse Aggregate  Fine Aggregate          Age  \\\n",
       "count       1030.000000       1030.000000     1030.000000  1030.000000   \n",
       "mean           6.204660        972.918932      773.580485    45.662136   \n",
       "std            5.973841         77.753954       80.175980    63.169912   \n",
       "min            0.000000        801.000000      594.000000     1.000000   \n",
       "25%            0.000000        932.000000      730.950000     7.000000   \n",
       "50%            6.400000        968.000000      779.500000    28.000000   \n",
       "75%           10.200000       1029.400000      824.000000    56.000000   \n",
       "max           32.200000       1145.000000      992.600000   365.000000   \n",
       "\n",
       "          Strength  \n",
       "count  1030.000000  \n",
       "mean     35.817961  \n",
       "std      16.705742  \n",
       "min       2.330000  \n",
       "25%      23.710000  \n",
       "50%      34.445000  \n",
       "75%      46.135000  \n",
       "max      82.600000  "
      ]
     },
     "execution_count": 8,
     "metadata": {},
     "output_type": "execute_result"
    }
   ],
   "source": [
    "concrete_data.describe()"
   ]
  },
  {
   "cell_type": "code",
   "execution_count": 9,
   "metadata": {
    "tags": []
   },
   "outputs": [
    {
     "data": {
      "text/plain": [
       "Cement                0\n",
       "Blast Furnace Slag    0\n",
       "Fly Ash               0\n",
       "Water                 0\n",
       "Superplasticizer      0\n",
       "Coarse Aggregate      0\n",
       "Fine Aggregate        0\n",
       "Age                   0\n",
       "Strength              0\n",
       "dtype: int64"
      ]
     },
     "execution_count": 9,
     "metadata": {},
     "output_type": "execute_result"
    }
   ],
   "source": [
    "concrete_data.isnull().sum()"
   ]
  },
  {
   "cell_type": "markdown",
   "metadata": {},
   "source": [
    "The data looks very clean and is ready to be used to build our model.\n"
   ]
  },
  {
   "cell_type": "markdown",
   "metadata": {},
   "source": [
    "#### Split data into predictors and target\n"
   ]
  },
  {
   "cell_type": "markdown",
   "metadata": {},
   "source": [
    "The target variable in this problem is the concrete sample strength. Therefore, our predictors will be all the other columns.\n"
   ]
  },
  {
   "cell_type": "code",
   "execution_count": 10,
   "metadata": {
    "tags": []
   },
   "outputs": [],
   "source": [
    "concrete_data_columns = concrete_data.columns\n",
    "\n",
    "predictors = concrete_data[concrete_data_columns[concrete_data_columns != 'Strength']] # all columns except Strength\n",
    "target = concrete_data['Strength'] # Strength column"
   ]
  },
  {
   "cell_type": "markdown",
   "metadata": {},
   "source": [
    "<a id=\"item2\"></a>\n"
   ]
  },
  {
   "cell_type": "markdown",
   "metadata": {},
   "source": [
    "Let's do a quick sanity check of the predictors and the target dataframes.\n"
   ]
  },
  {
   "cell_type": "code",
   "execution_count": 11,
   "metadata": {
    "tags": []
   },
   "outputs": [
    {
     "data": {
      "text/html": [
       "<div>\n",
       "<style scoped>\n",
       "    .dataframe tbody tr th:only-of-type {\n",
       "        vertical-align: middle;\n",
       "    }\n",
       "\n",
       "    .dataframe tbody tr th {\n",
       "        vertical-align: top;\n",
       "    }\n",
       "\n",
       "    .dataframe thead th {\n",
       "        text-align: right;\n",
       "    }\n",
       "</style>\n",
       "<table border=\"1\" class=\"dataframe\">\n",
       "  <thead>\n",
       "    <tr style=\"text-align: right;\">\n",
       "      <th></th>\n",
       "      <th>Cement</th>\n",
       "      <th>Blast Furnace Slag</th>\n",
       "      <th>Fly Ash</th>\n",
       "      <th>Water</th>\n",
       "      <th>Superplasticizer</th>\n",
       "      <th>Coarse Aggregate</th>\n",
       "      <th>Fine Aggregate</th>\n",
       "      <th>Age</th>\n",
       "    </tr>\n",
       "  </thead>\n",
       "  <tbody>\n",
       "    <tr>\n",
       "      <th>0</th>\n",
       "      <td>540.0</td>\n",
       "      <td>0.0</td>\n",
       "      <td>0.0</td>\n",
       "      <td>162.0</td>\n",
       "      <td>2.5</td>\n",
       "      <td>1040.0</td>\n",
       "      <td>676.0</td>\n",
       "      <td>28</td>\n",
       "    </tr>\n",
       "    <tr>\n",
       "      <th>1</th>\n",
       "      <td>540.0</td>\n",
       "      <td>0.0</td>\n",
       "      <td>0.0</td>\n",
       "      <td>162.0</td>\n",
       "      <td>2.5</td>\n",
       "      <td>1055.0</td>\n",
       "      <td>676.0</td>\n",
       "      <td>28</td>\n",
       "    </tr>\n",
       "    <tr>\n",
       "      <th>2</th>\n",
       "      <td>332.5</td>\n",
       "      <td>142.5</td>\n",
       "      <td>0.0</td>\n",
       "      <td>228.0</td>\n",
       "      <td>0.0</td>\n",
       "      <td>932.0</td>\n",
       "      <td>594.0</td>\n",
       "      <td>270</td>\n",
       "    </tr>\n",
       "    <tr>\n",
       "      <th>3</th>\n",
       "      <td>332.5</td>\n",
       "      <td>142.5</td>\n",
       "      <td>0.0</td>\n",
       "      <td>228.0</td>\n",
       "      <td>0.0</td>\n",
       "      <td>932.0</td>\n",
       "      <td>594.0</td>\n",
       "      <td>365</td>\n",
       "    </tr>\n",
       "    <tr>\n",
       "      <th>4</th>\n",
       "      <td>198.6</td>\n",
       "      <td>132.4</td>\n",
       "      <td>0.0</td>\n",
       "      <td>192.0</td>\n",
       "      <td>0.0</td>\n",
       "      <td>978.4</td>\n",
       "      <td>825.5</td>\n",
       "      <td>360</td>\n",
       "    </tr>\n",
       "  </tbody>\n",
       "</table>\n",
       "</div>"
      ],
      "text/plain": [
       "   Cement  Blast Furnace Slag  Fly Ash  Water  Superplasticizer  \\\n",
       "0   540.0                 0.0      0.0  162.0               2.5   \n",
       "1   540.0                 0.0      0.0  162.0               2.5   \n",
       "2   332.5               142.5      0.0  228.0               0.0   \n",
       "3   332.5               142.5      0.0  228.0               0.0   \n",
       "4   198.6               132.4      0.0  192.0               0.0   \n",
       "\n",
       "   Coarse Aggregate  Fine Aggregate  Age  \n",
       "0            1040.0           676.0   28  \n",
       "1            1055.0           676.0   28  \n",
       "2             932.0           594.0  270  \n",
       "3             932.0           594.0  365  \n",
       "4             978.4           825.5  360  "
      ]
     },
     "execution_count": 11,
     "metadata": {},
     "output_type": "execute_result"
    }
   ],
   "source": [
    "predictors.head()"
   ]
  },
  {
   "cell_type": "code",
   "execution_count": 12,
   "metadata": {
    "tags": []
   },
   "outputs": [
    {
     "data": {
      "text/plain": [
       "0    79.99\n",
       "1    61.89\n",
       "2    40.27\n",
       "3    41.05\n",
       "4    44.30\n",
       "Name: Strength, dtype: float64"
      ]
     },
     "execution_count": 12,
     "metadata": {},
     "output_type": "execute_result"
    }
   ],
   "source": [
    "target.head()"
   ]
  },
  {
   "cell_type": "markdown",
   "metadata": {},
   "source": [
    "Finally, the last step is to normalize the data by substracting the mean and dividing by the standard deviation.\n"
   ]
  },
  {
   "cell_type": "code",
   "execution_count": 13,
   "metadata": {
    "tags": []
   },
   "outputs": [
    {
     "data": {
      "text/html": [
       "<div>\n",
       "<style scoped>\n",
       "    .dataframe tbody tr th:only-of-type {\n",
       "        vertical-align: middle;\n",
       "    }\n",
       "\n",
       "    .dataframe tbody tr th {\n",
       "        vertical-align: top;\n",
       "    }\n",
       "\n",
       "    .dataframe thead th {\n",
       "        text-align: right;\n",
       "    }\n",
       "</style>\n",
       "<table border=\"1\" class=\"dataframe\">\n",
       "  <thead>\n",
       "    <tr style=\"text-align: right;\">\n",
       "      <th></th>\n",
       "      <th>Cement</th>\n",
       "      <th>Blast Furnace Slag</th>\n",
       "      <th>Fly Ash</th>\n",
       "      <th>Water</th>\n",
       "      <th>Superplasticizer</th>\n",
       "      <th>Coarse Aggregate</th>\n",
       "      <th>Fine Aggregate</th>\n",
       "      <th>Age</th>\n",
       "    </tr>\n",
       "  </thead>\n",
       "  <tbody>\n",
       "    <tr>\n",
       "      <th>0</th>\n",
       "      <td>2.476712</td>\n",
       "      <td>-0.856472</td>\n",
       "      <td>-0.846733</td>\n",
       "      <td>-0.916319</td>\n",
       "      <td>-0.620147</td>\n",
       "      <td>0.862735</td>\n",
       "      <td>-1.217079</td>\n",
       "      <td>-0.279597</td>\n",
       "    </tr>\n",
       "    <tr>\n",
       "      <th>1</th>\n",
       "      <td>2.476712</td>\n",
       "      <td>-0.856472</td>\n",
       "      <td>-0.846733</td>\n",
       "      <td>-0.916319</td>\n",
       "      <td>-0.620147</td>\n",
       "      <td>1.055651</td>\n",
       "      <td>-1.217079</td>\n",
       "      <td>-0.279597</td>\n",
       "    </tr>\n",
       "    <tr>\n",
       "      <th>2</th>\n",
       "      <td>0.491187</td>\n",
       "      <td>0.795140</td>\n",
       "      <td>-0.846733</td>\n",
       "      <td>2.174405</td>\n",
       "      <td>-1.038638</td>\n",
       "      <td>-0.526262</td>\n",
       "      <td>-2.239829</td>\n",
       "      <td>3.551340</td>\n",
       "    </tr>\n",
       "    <tr>\n",
       "      <th>3</th>\n",
       "      <td>0.491187</td>\n",
       "      <td>0.795140</td>\n",
       "      <td>-0.846733</td>\n",
       "      <td>2.174405</td>\n",
       "      <td>-1.038638</td>\n",
       "      <td>-0.526262</td>\n",
       "      <td>-2.239829</td>\n",
       "      <td>5.055221</td>\n",
       "    </tr>\n",
       "    <tr>\n",
       "      <th>4</th>\n",
       "      <td>-0.790075</td>\n",
       "      <td>0.678079</td>\n",
       "      <td>-0.846733</td>\n",
       "      <td>0.488555</td>\n",
       "      <td>-1.038638</td>\n",
       "      <td>0.070492</td>\n",
       "      <td>0.647569</td>\n",
       "      <td>4.976069</td>\n",
       "    </tr>\n",
       "  </tbody>\n",
       "</table>\n",
       "</div>"
      ],
      "text/plain": [
       "     Cement  Blast Furnace Slag   Fly Ash     Water  Superplasticizer  \\\n",
       "0  2.476712           -0.856472 -0.846733 -0.916319         -0.620147   \n",
       "1  2.476712           -0.856472 -0.846733 -0.916319         -0.620147   \n",
       "2  0.491187            0.795140 -0.846733  2.174405         -1.038638   \n",
       "3  0.491187            0.795140 -0.846733  2.174405         -1.038638   \n",
       "4 -0.790075            0.678079 -0.846733  0.488555         -1.038638   \n",
       "\n",
       "   Coarse Aggregate  Fine Aggregate       Age  \n",
       "0          0.862735       -1.217079 -0.279597  \n",
       "1          1.055651       -1.217079 -0.279597  \n",
       "2         -0.526262       -2.239829  3.551340  \n",
       "3         -0.526262       -2.239829  5.055221  \n",
       "4          0.070492        0.647569  4.976069  "
      ]
     },
     "execution_count": 13,
     "metadata": {},
     "output_type": "execute_result"
    }
   ],
   "source": [
    "predictors_norm = (predictors - predictors.mean()) / predictors.std()\n",
    "predictors_norm.head()"
   ]
  },
  {
   "cell_type": "markdown",
   "metadata": {},
   "source": [
    "Let's save the number of predictors to *n_cols* since we will need this number when building our network.\n"
   ]
  },
  {
   "cell_type": "code",
   "execution_count": 14,
   "metadata": {
    "tags": []
   },
   "outputs": [],
   "source": [
    "n_cols = predictors_norm.shape[1] # number of predictors"
   ]
  },
  {
   "cell_type": "markdown",
   "metadata": {},
   "source": [
    "<a id=\"item1\"></a>\n"
   ]
  },
  {
   "cell_type": "markdown",
   "metadata": {},
   "source": [
    "<a id='item32'></a>\n"
   ]
  },
  {
   "cell_type": "markdown",
   "metadata": {},
   "source": [
    "## Import Keras\n"
   ]
  },
  {
   "cell_type": "markdown",
   "metadata": {},
   "source": [
    "Recall from the videos that Keras normally runs on top of a low-level library such as TensorFlow. This means that to be able to use the Keras library, you will have to install TensorFlow first and when you import the Keras library, it will be explicitly displayed what backend was used to install the Keras library. In CC Labs, we used TensorFlow as the backend to install Keras, so it should clearly print that when we import Keras.\n"
   ]
  },
  {
   "cell_type": "markdown",
   "metadata": {},
   "source": [
    "#### Let's go ahead and import the Keras library\n"
   ]
  },
  {
   "cell_type": "code",
   "execution_count": 15,
   "metadata": {
    "tags": []
   },
   "outputs": [
    {
     "name": "stderr",
     "output_type": "stream",
     "text": [
      "Using TensorFlow backend.\n"
     ]
    }
   ],
   "source": [
    "import keras"
   ]
  },
  {
   "cell_type": "markdown",
   "metadata": {},
   "source": [
    "As you can see, the TensorFlow backend was used to install the Keras library.\n"
   ]
  },
  {
   "cell_type": "markdown",
   "metadata": {},
   "source": [
    "Let's import the rest of the packages from the Keras library that we will need to build our regressoin model.\n"
   ]
  },
  {
   "cell_type": "code",
   "execution_count": 16,
   "metadata": {
    "tags": []
   },
   "outputs": [],
   "source": [
    "from keras.models import Sequential\n",
    "from keras.layers import Dense"
   ]
  },
  {
   "cell_type": "markdown",
   "metadata": {},
   "source": [
    "<a id='item33'></a>\n"
   ]
  },
  {
   "cell_type": "markdown",
   "metadata": {},
   "source": [
    "## Build a Neural Network\n"
   ]
  },
  {
   "cell_type": "markdown",
   "metadata": {},
   "source": [
    "Let's define a function that defines our regression model for us so that we can conveniently call it to create our model.\n"
   ]
  },
  {
   "cell_type": "code",
   "execution_count": 17,
   "metadata": {
    "tags": []
   },
   "outputs": [],
   "source": [
    "# define regression model\n",
    "def regression_model():\n",
    "    # create model\n",
    "    model = Sequential()\n",
    "    model.add(Dense(50, activation='relu', input_shape=(n_cols,)))\n",
    "    model.add(Dense(50, activation='relu'))\n",
    "    model.add(Dense(1))\n",
    "    \n",
    "    # compile model\n",
    "    model.compile(optimizer='adam', loss='mean_squared_error')\n",
    "    return model"
   ]
  },
  {
   "cell_type": "markdown",
   "metadata": {},
   "source": [
    "The above function create a model that has two hidden layers, each of 50 hidden units.\n"
   ]
  },
  {
   "cell_type": "markdown",
   "metadata": {},
   "source": [
    "<a id=\"item4\"></a>\n"
   ]
  },
  {
   "cell_type": "markdown",
   "metadata": {},
   "source": [
    "<a id='item34'></a>\n"
   ]
  },
  {
   "cell_type": "markdown",
   "metadata": {},
   "source": [
    "## Train and Test the Network\n"
   ]
  },
  {
   "cell_type": "markdown",
   "metadata": {},
   "source": [
    "Let's call the function now to create our model.\n"
   ]
  },
  {
   "cell_type": "code",
   "execution_count": 18,
   "metadata": {
    "tags": []
   },
   "outputs": [
    {
     "name": "stdout",
     "output_type": "stream",
     "text": [
      "WARNING:tensorflow:From /home/jupyterlab/conda/envs/python/lib/python3.7/site-packages/keras/backend/tensorflow_backend.py:68: The name tf.get_default_graph is deprecated. Please use tf.compat.v1.get_default_graph instead.\n",
      "\n",
      "WARNING:tensorflow:From /home/jupyterlab/conda/envs/python/lib/python3.7/site-packages/keras/backend/tensorflow_backend.py:508: The name tf.placeholder is deprecated. Please use tf.compat.v1.placeholder instead.\n",
      "\n",
      "WARNING:tensorflow:From /home/jupyterlab/conda/envs/python/lib/python3.7/site-packages/keras/backend/tensorflow_backend.py:3837: The name tf.random_uniform is deprecated. Please use tf.random.uniform instead.\n",
      "\n",
      "WARNING:tensorflow:From /home/jupyterlab/conda/envs/python/lib/python3.7/site-packages/keras/optimizers.py:757: The name tf.train.Optimizer is deprecated. Please use tf.compat.v1.train.Optimizer instead.\n",
      "\n"
     ]
    }
   ],
   "source": [
    "# build the model\n",
    "model = regression_model()"
   ]
  },
  {
   "cell_type": "markdown",
   "metadata": {},
   "source": [
    "Next, we will train and test the model at the same time using the *fit* method. We will leave out 30% of the data for validation and we will train the model for 100 epochs.\n"
   ]
  },
  {
   "cell_type": "code",
   "execution_count": 19,
   "metadata": {
    "tags": []
   },
   "outputs": [
    {
     "name": "stdout",
     "output_type": "stream",
     "text": [
      "WARNING:tensorflow:From /home/jupyterlab/conda/envs/python/lib/python3.7/site-packages/keras/backend/tensorflow_backend.py:977: The name tf.assign_add is deprecated. Please use tf.compat.v1.assign_add instead.\n",
      "\n",
      "WARNING:tensorflow:From /home/jupyterlab/conda/envs/python/lib/python3.7/site-packages/keras/backend/tensorflow_backend.py:964: The name tf.assign is deprecated. Please use tf.compat.v1.assign instead.\n",
      "\n",
      "Train on 721 samples, validate on 309 samples\n",
      "Epoch 1/100\n"
     ]
    },
    {
     "name": "stderr",
     "output_type": "stream",
     "text": [
      "2024-10-11 09:53:12.140866: I tensorflow/core/platform/cpu_feature_guard.cc:142] Your CPU supports instructions that this TensorFlow binary was not compiled to use: SSE4.1 SSE4.2 AVX AVX2 AVX512F FMA\n",
      "2024-10-11 09:53:12.146681: I tensorflow/core/platform/profile_utils/cpu_utils.cc:94] CPU Frequency: 2394305000 Hz\n",
      "2024-10-11 09:53:12.153493: I tensorflow/compiler/xla/service/service.cc:168] XLA service 0x559f14ddf5f0 executing computations on platform Host. Devices:\n",
      "2024-10-11 09:53:12.153571: I tensorflow/compiler/xla/service/service.cc:175]   StreamExecutor device (0): <undefined>, <undefined>\n",
      "2024-10-11 09:53:12.266883: W tensorflow/compiler/jit/mark_for_compilation_pass.cc:1412] (One-time warning): Not using XLA:CPU for cluster because envvar TF_XLA_FLAGS=--tf_xla_cpu_global_jit was not set.  If you want XLA:CPU, either set that envvar, or use experimental_jit_scope to enable XLA:CPU.  To confirm that XLA is active, pass --vmodule=xla_compilation_cache=1 (as a proper command-line flag, not via TF_XLA_FLAGS) or set the envvar XLA_FLAGS=--xla_hlo_profile.\n"
     ]
    },
    {
     "name": "stdout",
     "output_type": "stream",
     "text": [
      " - 0s - loss: 1670.5249 - val_loss: 1157.8946\n",
      "Epoch 2/100\n",
      " - 0s - loss: 1536.5960 - val_loss: 1037.2666\n",
      "Epoch 3/100\n",
      " - 0s - loss: 1327.7052 - val_loss: 846.7711\n",
      "Epoch 4/100\n",
      " - 0s - loss: 1010.1716 - val_loss: 594.3364\n",
      "Epoch 5/100\n",
      " - 0s - loss: 633.0184 - val_loss: 359.4178\n",
      "Epoch 6/100\n",
      " - 0s - loss: 340.8216 - val_loss: 221.2542\n",
      "Epoch 7/100\n",
      " - 0s - loss: 233.2985 - val_loss: 181.5830\n",
      "Epoch 8/100\n",
      " - 0s - loss: 212.3995 - val_loss: 171.9644\n",
      "Epoch 9/100\n",
      " - 0s - loss: 200.8098 - val_loss: 173.0125\n",
      "Epoch 10/100\n",
      " - 0s - loss: 192.6948 - val_loss: 169.0795\n",
      "Epoch 11/100\n",
      " - 0s - loss: 186.5352 - val_loss: 166.7158\n",
      "Epoch 12/100\n",
      " - 0s - loss: 181.2082 - val_loss: 164.3981\n",
      "Epoch 13/100\n",
      " - 0s - loss: 176.5408 - val_loss: 163.5214\n",
      "Epoch 14/100\n",
      " - 0s - loss: 172.9740 - val_loss: 161.1513\n",
      "Epoch 15/100\n",
      " - 0s - loss: 169.4691 - val_loss: 160.8565\n",
      "Epoch 16/100\n",
      " - 0s - loss: 166.0834 - val_loss: 159.4525\n",
      "Epoch 17/100\n",
      " - 0s - loss: 163.2003 - val_loss: 156.4954\n",
      "Epoch 18/100\n",
      " - 0s - loss: 161.1831 - val_loss: 156.5519\n",
      "Epoch 19/100\n",
      " - 0s - loss: 158.4238 - val_loss: 156.2703\n",
      "Epoch 20/100\n",
      " - 0s - loss: 156.2563 - val_loss: 153.9208\n",
      "Epoch 21/100\n",
      " - 0s - loss: 154.4145 - val_loss: 154.7760\n",
      "Epoch 22/100\n",
      " - 0s - loss: 153.3225 - val_loss: 153.8595\n",
      "Epoch 23/100\n",
      " - 0s - loss: 151.4819 - val_loss: 153.1403\n",
      "Epoch 24/100\n",
      " - 0s - loss: 149.4133 - val_loss: 154.4931\n",
      "Epoch 25/100\n",
      " - 0s - loss: 148.2316 - val_loss: 153.9778\n",
      "Epoch 26/100\n",
      " - 0s - loss: 146.3699 - val_loss: 154.9040\n",
      "Epoch 27/100\n",
      " - 0s - loss: 145.4991 - val_loss: 154.4299\n",
      "Epoch 28/100\n",
      " - 0s - loss: 143.5534 - val_loss: 153.6133\n",
      "Epoch 29/100\n",
      " - 0s - loss: 142.4429 - val_loss: 155.2762\n",
      "Epoch 30/100\n",
      " - 0s - loss: 141.1114 - val_loss: 156.7744\n",
      "Epoch 31/100\n",
      " - 0s - loss: 140.2939 - val_loss: 156.5284\n",
      "Epoch 32/100\n",
      " - 0s - loss: 140.6271 - val_loss: 153.3518\n",
      "Epoch 33/100\n",
      " - 0s - loss: 138.1308 - val_loss: 160.5616\n",
      "Epoch 34/100\n",
      " - 0s - loss: 136.7452 - val_loss: 156.8786\n",
      "Epoch 35/100\n",
      " - 0s - loss: 135.5961 - val_loss: 158.3764\n",
      "Epoch 36/100\n",
      " - 0s - loss: 134.1622 - val_loss: 160.1082\n",
      "Epoch 37/100\n",
      " - 0s - loss: 133.0684 - val_loss: 159.6945\n",
      "Epoch 38/100\n",
      " - 0s - loss: 131.1604 - val_loss: 158.8310\n",
      "Epoch 39/100\n",
      " - 0s - loss: 130.5180 - val_loss: 161.6311\n",
      "Epoch 40/100\n",
      " - 0s - loss: 128.9481 - val_loss: 160.4282\n",
      "Epoch 41/100\n",
      " - 0s - loss: 128.0217 - val_loss: 163.3294\n",
      "Epoch 42/100\n",
      " - 0s - loss: 126.2603 - val_loss: 164.4929\n",
      "Epoch 43/100\n",
      " - 0s - loss: 125.3901 - val_loss: 164.6903\n",
      "Epoch 44/100\n",
      " - 0s - loss: 123.6023 - val_loss: 162.0396\n",
      "Epoch 45/100\n",
      " - 0s - loss: 121.7653 - val_loss: 166.6283\n",
      "Epoch 46/100\n",
      " - 0s - loss: 119.8407 - val_loss: 165.2976\n",
      "Epoch 47/100\n",
      " - 0s - loss: 118.5243 - val_loss: 171.3673\n",
      "Epoch 48/100\n",
      " - 0s - loss: 116.8324 - val_loss: 163.6297\n",
      "Epoch 49/100\n",
      " - 0s - loss: 114.4948 - val_loss: 167.0383\n",
      "Epoch 50/100\n",
      " - 0s - loss: 112.7881 - val_loss: 167.4540\n",
      "Epoch 51/100\n",
      " - 0s - loss: 111.0429 - val_loss: 170.5307\n",
      "Epoch 52/100\n",
      " - 0s - loss: 108.5026 - val_loss: 170.2535\n",
      "Epoch 53/100\n",
      " - 0s - loss: 106.1944 - val_loss: 168.6743\n",
      "Epoch 54/100\n",
      " - 0s - loss: 104.6249 - val_loss: 167.0859\n",
      "Epoch 55/100\n",
      " - 0s - loss: 101.7353 - val_loss: 168.5059\n",
      "Epoch 56/100\n",
      " - 0s - loss: 99.3564 - val_loss: 168.4510\n",
      "Epoch 57/100\n",
      " - 0s - loss: 97.5272 - val_loss: 162.4867\n",
      "Epoch 58/100\n",
      " - 0s - loss: 94.6281 - val_loss: 170.0287\n",
      "Epoch 59/100\n",
      " - 0s - loss: 91.5923 - val_loss: 164.0628\n",
      "Epoch 60/100\n",
      " - 0s - loss: 88.0821 - val_loss: 164.5965\n",
      "Epoch 61/100\n",
      " - 0s - loss: 85.2395 - val_loss: 164.8043\n",
      "Epoch 62/100\n",
      " - 0s - loss: 81.9693 - val_loss: 166.4587\n",
      "Epoch 63/100\n",
      " - 0s - loss: 78.7449 - val_loss: 155.4765\n",
      "Epoch 64/100\n",
      " - 0s - loss: 76.6126 - val_loss: 157.1306\n",
      "Epoch 65/100\n",
      " - 0s - loss: 72.9574 - val_loss: 152.1987\n",
      "Epoch 66/100\n",
      " - 0s - loss: 69.8696 - val_loss: 152.5179\n",
      "Epoch 67/100\n",
      " - 0s - loss: 67.1472 - val_loss: 145.6842\n",
      "Epoch 68/100\n",
      " - 0s - loss: 64.2873 - val_loss: 147.4129\n",
      "Epoch 69/100\n",
      " - 0s - loss: 61.5860 - val_loss: 149.6871\n",
      "Epoch 70/100\n",
      " - 0s - loss: 59.5013 - val_loss: 146.8162\n",
      "Epoch 71/100\n",
      " - 0s - loss: 57.2943 - val_loss: 144.7069\n",
      "Epoch 72/100\n",
      " - 0s - loss: 55.8996 - val_loss: 143.8783\n",
      "Epoch 73/100\n",
      " - 0s - loss: 53.9443 - val_loss: 153.3495\n",
      "Epoch 74/100\n",
      " - 0s - loss: 52.4231 - val_loss: 142.5905\n",
      "Epoch 75/100\n",
      " - 0s - loss: 51.2605 - val_loss: 140.9121\n",
      "Epoch 76/100\n",
      " - 0s - loss: 49.5616 - val_loss: 135.1764\n",
      "Epoch 77/100\n",
      " - 0s - loss: 48.3264 - val_loss: 149.5624\n",
      "Epoch 78/100\n",
      " - 0s - loss: 46.9558 - val_loss: 144.5145\n",
      "Epoch 79/100\n",
      " - 0s - loss: 45.9148 - val_loss: 142.7874\n",
      "Epoch 80/100\n",
      " - 0s - loss: 45.4679 - val_loss: 137.3206\n",
      "Epoch 81/100\n",
      " - 0s - loss: 44.2785 - val_loss: 148.9050\n",
      "Epoch 82/100\n",
      " - 0s - loss: 43.6367 - val_loss: 136.0414\n",
      "Epoch 83/100\n",
      " - 0s - loss: 42.7608 - val_loss: 142.0278\n",
      "Epoch 84/100\n",
      " - 0s - loss: 42.2386 - val_loss: 138.5053\n",
      "Epoch 85/100\n",
      " - 0s - loss: 41.1710 - val_loss: 146.3729\n",
      "Epoch 86/100\n",
      " - 0s - loss: 40.6777 - val_loss: 145.2914\n",
      "Epoch 87/100\n",
      " - 0s - loss: 40.3056 - val_loss: 145.5574\n",
      "Epoch 88/100\n",
      " - 0s - loss: 39.6535 - val_loss: 148.9540\n",
      "Epoch 89/100\n",
      " - 0s - loss: 39.6814 - val_loss: 148.7083\n",
      "Epoch 90/100\n",
      " - 0s - loss: 39.0916 - val_loss: 133.9663\n",
      "Epoch 91/100\n",
      " - 0s - loss: 39.4597 - val_loss: 139.6093\n",
      "Epoch 92/100\n",
      " - 0s - loss: 37.9161 - val_loss: 147.6937\n",
      "Epoch 93/100\n",
      " - 0s - loss: 37.7878 - val_loss: 142.4173\n",
      "Epoch 94/100\n",
      " - 0s - loss: 37.1954 - val_loss: 145.8341\n",
      "Epoch 95/100\n",
      " - 0s - loss: 36.7156 - val_loss: 140.5997\n",
      "Epoch 96/100\n",
      " - 0s - loss: 36.5383 - val_loss: 154.1582\n",
      "Epoch 97/100\n",
      " - 0s - loss: 36.5052 - val_loss: 147.3167\n",
      "Epoch 98/100\n",
      " - 0s - loss: 35.5975 - val_loss: 148.7422\n",
      "Epoch 99/100\n",
      " - 0s - loss: 35.2686 - val_loss: 135.2631\n",
      "Epoch 100/100\n",
      " - 0s - loss: 35.3693 - val_loss: 142.4869\n"
     ]
    },
    {
     "data": {
      "text/plain": [
       "<keras.callbacks.History at 0x7f51b93d5790>"
      ]
     },
     "execution_count": 19,
     "metadata": {},
     "output_type": "execute_result"
    }
   ],
   "source": [
    "# fit the model\n",
    "model.fit(predictors_norm, target, validation_split=0.3, epochs=100, verbose=2)"
   ]
  },
  {
   "cell_type": "markdown",
   "metadata": {},
   "source": [
    "A. Build a baseline model (5 marks) \n",
    "\n",
    "Use the Keras library to build a neural network with the following:\n",
    "- One hidden layer of 10 nodes, and a ReLU activation function\n",
    "- Use the adam optimizer and the mean squared error  as the loss function."
   ]
  },
  {
   "cell_type": "code",
   "execution_count": 20,
   "metadata": {
    "tags": []
   },
   "outputs": [
    {
     "data": {
      "text/html": [
       "<div>\n",
       "<style scoped>\n",
       "    .dataframe tbody tr th:only-of-type {\n",
       "        vertical-align: middle;\n",
       "    }\n",
       "\n",
       "    .dataframe tbody tr th {\n",
       "        vertical-align: top;\n",
       "    }\n",
       "\n",
       "    .dataframe thead th {\n",
       "        text-align: right;\n",
       "    }\n",
       "</style>\n",
       "<table border=\"1\" class=\"dataframe\">\n",
       "  <thead>\n",
       "    <tr style=\"text-align: right;\">\n",
       "      <th></th>\n",
       "      <th>Cement</th>\n",
       "      <th>Blast Furnace Slag</th>\n",
       "      <th>Fly Ash</th>\n",
       "      <th>Water</th>\n",
       "      <th>Superplasticizer</th>\n",
       "      <th>Coarse Aggregate</th>\n",
       "      <th>Fine Aggregate</th>\n",
       "      <th>Age</th>\n",
       "    </tr>\n",
       "  </thead>\n",
       "  <tbody>\n",
       "    <tr>\n",
       "      <th>0</th>\n",
       "      <td>540.0</td>\n",
       "      <td>0.0</td>\n",
       "      <td>0.0</td>\n",
       "      <td>162.0</td>\n",
       "      <td>2.5</td>\n",
       "      <td>1040.0</td>\n",
       "      <td>676.0</td>\n",
       "      <td>28</td>\n",
       "    </tr>\n",
       "    <tr>\n",
       "      <th>1</th>\n",
       "      <td>540.0</td>\n",
       "      <td>0.0</td>\n",
       "      <td>0.0</td>\n",
       "      <td>162.0</td>\n",
       "      <td>2.5</td>\n",
       "      <td>1055.0</td>\n",
       "      <td>676.0</td>\n",
       "      <td>28</td>\n",
       "    </tr>\n",
       "    <tr>\n",
       "      <th>2</th>\n",
       "      <td>332.5</td>\n",
       "      <td>142.5</td>\n",
       "      <td>0.0</td>\n",
       "      <td>228.0</td>\n",
       "      <td>0.0</td>\n",
       "      <td>932.0</td>\n",
       "      <td>594.0</td>\n",
       "      <td>270</td>\n",
       "    </tr>\n",
       "    <tr>\n",
       "      <th>3</th>\n",
       "      <td>332.5</td>\n",
       "      <td>142.5</td>\n",
       "      <td>0.0</td>\n",
       "      <td>228.0</td>\n",
       "      <td>0.0</td>\n",
       "      <td>932.0</td>\n",
       "      <td>594.0</td>\n",
       "      <td>365</td>\n",
       "    </tr>\n",
       "    <tr>\n",
       "      <th>4</th>\n",
       "      <td>198.6</td>\n",
       "      <td>132.4</td>\n",
       "      <td>0.0</td>\n",
       "      <td>192.0</td>\n",
       "      <td>0.0</td>\n",
       "      <td>978.4</td>\n",
       "      <td>825.5</td>\n",
       "      <td>360</td>\n",
       "    </tr>\n",
       "  </tbody>\n",
       "</table>\n",
       "</div>"
      ],
      "text/plain": [
       "   Cement  Blast Furnace Slag  Fly Ash  Water  Superplasticizer  \\\n",
       "0   540.0                 0.0      0.0  162.0               2.5   \n",
       "1   540.0                 0.0      0.0  162.0               2.5   \n",
       "2   332.5               142.5      0.0  228.0               0.0   \n",
       "3   332.5               142.5      0.0  228.0               0.0   \n",
       "4   198.6               132.4      0.0  192.0               0.0   \n",
       "\n",
       "   Coarse Aggregate  Fine Aggregate  Age  \n",
       "0            1040.0           676.0   28  \n",
       "1            1055.0           676.0   28  \n",
       "2             932.0           594.0  270  \n",
       "3             932.0           594.0  365  \n",
       "4             978.4           825.5  360  "
      ]
     },
     "execution_count": 20,
     "metadata": {},
     "output_type": "execute_result"
    }
   ],
   "source": [
    "target = \"Strength\"\n",
    "X = concrete_data.copy()\n",
    "y = X.pop(target)\n",
    "\n",
    "X.head()"
   ]
  },
  {
   "cell_type": "code",
   "execution_count": 21,
   "metadata": {
    "tags": []
   },
   "outputs": [
    {
     "data": {
      "text/plain": [
       "0    79.99\n",
       "1    61.89\n",
       "2    40.27\n",
       "3    41.05\n",
       "4    44.30\n",
       "Name: Strength, dtype: float64"
      ]
     },
     "execution_count": 21,
     "metadata": {},
     "output_type": "execute_result"
    }
   ],
   "source": [
    "y.head()"
   ]
  },
  {
   "cell_type": "code",
   "execution_count": 22,
   "metadata": {
    "tags": []
   },
   "outputs": [],
   "source": [
    "# number of predictors\n",
    "n_cols      = X.shape[1]\n",
    "input_shape = (n_cols,)"
   ]
  },
  {
   "cell_type": "code",
   "execution_count": 23,
   "metadata": {
    "tags": []
   },
   "outputs": [],
   "source": [
    "# 1. Randomly split the data into a training and test sets by holding 30% of the data for testing.\n",
    "# You can use the train_test_split helper function from Scikit-learn.\n",
    "from sklearn.model_selection import train_test_split"
   ]
  },
  {
   "cell_type": "code",
   "execution_count": 24,
   "metadata": {
    "tags": []
   },
   "outputs": [
    {
     "name": "stdout",
     "output_type": "stream",
     "text": [
      "\n",
      "input_shape    = (8,)\n",
      "network_config = {'layer_1': {'n_units': 10, 'activation': 'relu'}, 'layer_2': {'n_units': 1}}\n",
      "\n"
     ]
    }
   ],
   "source": [
    "# 2. Train the model on the training data using 50 epochs.\n",
    "from tensorflow import keras as K\n",
    "from tensorflow.keras.models import Sequential\n",
    "from tensorflow.keras.layers import Dense\n",
    "    \n",
    "# define regression model\n",
    "def regression_model(network_arch,\n",
    "                     input_shape,\n",
    "                     optimizer = \"adam\",\n",
    "                     loss = \"mean_squared_error\",\n",
    "                    ):\n",
    "    \"\"\"\n",
    "    Function to build the regression model\n",
    "    \n",
    "    parameters:\n",
    "    -----------\n",
    "      - network_arch: dictionary with the following structure\n",
    "          {\"layer_1\": {\"u_units\": n, \"activation\": activation},\n",
    "           ...\n",
    "           \"layer_n\": {\"u_units\"}\n",
    "          }\n",
    "      - input_shape: tuple with the shape of the input\n",
    "      - optimizer:   string, name of the optimizer to use\n",
    "      - loss:        string, name of the loss function to minimize\n",
    "      \n",
    "    returns:\n",
    "    --------\n",
    "      - A compiled model\n",
    "    \"\"\"\n",
    "    \n",
    "    # create model\n",
    "    model = Sequential()\n",
    "    \n",
    "    nlayers     = len(network_arch)\n",
    "    final_layer = \"layer_\" + str(nlayers)\n",
    "    \n",
    "    for k,layer in network_arch.items():\n",
    "        n_units    = layer.get(\"n_units\")\n",
    "        activation = layer.get(\"activation\")\n",
    "        if k == \"layer_1\":\n",
    "            model.add(Dense(n_units, activation=activation, input_shape=input_shape))\n",
    "        elif k == final_layer:\n",
    "            model.add(Dense(n_units))\n",
    "        else:\n",
    "            model.add(Dense(n_units, activation=activation))\n",
    "    \n",
    "    # compile model\n",
    "    model.compile(optimizer=optimizer, loss=loss)\n",
    "    \n",
    "    return model\n",
    "\n",
    "# model architecture\n",
    "model_architecture1 = {\"layer_1\": {\"n_units\": 10, \"activation\": \"relu\"},\n",
    "                       \"layer_2\": {\"n_units\":  1},\n",
    "                      }\n",
    "\n",
    "print()\n",
    "print(\"input_shape    = {}\".format(input_shape))\n",
    "print(\"network_config = {}\".format(model_architecture1))\n",
    "print()"
   ]
  },
  {
   "cell_type": "code",
   "execution_count": 25,
   "metadata": {
    "tags": []
   },
   "outputs": [],
   "source": [
    "# 3. Evaluate the model on the test data and compute the mean squared error between the predicted concrete strength and the actual concrete strength.\n",
    "# You can use the mean_squared_error function from Scikit-learn.\n",
    "# 4. Repeat steps 1 - 3, 50 times, i.e., create a list of 50 mean squared errors.\n",
    "\n",
    "# import the metric to evaluate the model performance\n",
    "from sklearn.metrics import mean_squared_error\n",
    "\n",
    "# Define a function for the loops \n",
    "def train_and_test_several_models(X,y,\n",
    "                                  test_size,\n",
    "                                  model_arch,\n",
    "                                  input_shape,\n",
    "                                  optimizer,\n",
    "                                  loss,\n",
    "                                  niterations,\n",
    "                                  epochs,\n",
    "                                  pred_norm = False,\n",
    "                                  seed = 345,\n",
    "                                  verbose = 2,\n",
    "                                 ):\n",
    "    \"\"\"\n",
    "    Function for training and testing several model on random train/test splits\n",
    "    \n",
    "    parameters:\n",
    "    -----------\n",
    "      - X,y:         the data. X are the predictors and y the target\n",
    "      - seed:        int, with a seed to be used in the train/test splitting\n",
    "      - test_size:   float (0,0.5). Size of the test-sample as a fraction of the whole data-set\n",
    "      - model_arch:  dict. Architecture of the model (see regression_model above)\n",
    "      - input_shape: 2-tuple with the input shape\n",
    "      - optimizer:   string. optimizer name\n",
    "      - loss:        string. loss function name\n",
    "      - niterations: int. number of iterations to perform the train/test split, model training and testing\n",
    "      - epoch:       int. number of epochs for model training\n",
    "      - pred_norm:   bool. If True will apply normalization on the predictors\n",
    "      - verbose:     int >= 0. level of verbosity.\n",
    "      \n",
    "    returns:\n",
    "    --------\n",
    "      - mse_results: np.array with the sqrt(mse) metric evaluated on the test-samples\n",
    "    \"\"\"\n",
    "    \n",
    "    # Array to store the results of the model evaluation on the test set\n",
    "    metric_list = np.zeros(niterations)\n",
    "    \n",
    "    print()\n",
    "    print(\"Launching {} iterations of\".format(niterations))\n",
    "    print(\" - train/test split => test_size = {}\".format(test_size))\n",
    "    if pred_norm:\n",
    "        print(\" - Apply predictors normalization\")\n",
    "    else:\n",
    "        print(\" - No    predictors normalization\")\n",
    "    print(\" - model architecture: {}\".format(model_arch))\n",
    "    print(\" - model training:\")\n",
    "    print(\"   * epochs    = {}\".format(epochs))\n",
    "    print(\"   * optimizer = {}\".format(optimizer))\n",
    "    print(\"   * loss      = {}\".format(loss))\n",
    "    print()\n",
    "    \n",
    "    # Start the loop\n",
    "    for i in range(niterations):\n",
    "        # Apply the train test split\n",
    "        myseed = seed + i*2 # seed used for the train_test_split\n",
    "        X_train, X_test, y_train, y_test = train_test_split(X, y, test_size=test_size, random_state=myseed)\n",
    "\n",
    "        # Start by building the model\n",
    "        model = regression_model(network_arch = model_arch,\n",
    "                                 input_shape  = input_shape,\n",
    "                                 optimizer    = optimizer,\n",
    "                                 loss         = loss)\n",
    "        \n",
    "        if pred_norm:\n",
    "            # If requested apply predictors normalization\n",
    "            # first calculate the mean and std on the train-sample\n",
    "            X_train_mean = X_train.mean()\n",
    "            X_train_std  = X_train.std()\n",
    "            \n",
    "            # then apply them on both, the train and test samples\n",
    "            X_train = (X_train - X_train_mean)/X_train_std\n",
    "            X_test  = (X_test  - X_train_mean)/X_train_std\n",
    "\n",
    "        myverbose = 0\n",
    "        if i == 0:\n",
    "            myverbose = verbose\n",
    "            print(\"Train/test splitting for iteration {}\".format(i+1))\n",
    "            print(\"  X_train.shape = {}\".format(X_train.shape))\n",
    "            print(\"  y_train.shape = {}\".format(y_train.shape))\n",
    "            print(\"  X_test.shape  = {}\".format(X_test.shape))\n",
    "            print(\"  y_test.shape  = {}\".format(y_test.shape))\n",
    "            print(X_train.head())\n",
    "            print()\n",
    "            print(\"Model summary for iteration {}\".format(i+1))\n",
    "            model.summary()\n",
    "            print()\n",
    "            print()\n",
    "\n",
    "        # Model training\n",
    "        model.fit(X_train, y_train, epochs=epochs, verbose=verbose)\n",
    "\n",
    "        # model predictions on test sample\n",
    "        y_pred = model.predict(X_test)\n",
    "\n",
    "        # Model evaluation on test sample\n",
    "        result = np.sqrt(mean_squared_error(y_test,y_pred))\n",
    "        print(\"{}: sqrt(mse) = {}\".format(i+1,result))\n",
    "        metric_list[i] = result\n",
    "    \n",
    "    \n",
    "    print()\n",
    "    \n",
    "    return metric_list"
   ]
  },
  {
   "cell_type": "code",
   "execution_count": 27,
   "metadata": {
    "tags": []
   },
   "outputs": [],
   "source": [
    "niterations = 50  # Number of iterations\n",
    "test_size   = 0.3 # test sample size"
   ]
  },
  {
   "cell_type": "code",
   "execution_count": 31,
   "metadata": {
    "tags": []
   },
   "outputs": [
    {
     "name": "stdout",
     "output_type": "stream",
     "text": [
      "\n",
      "Launching 50 iterations of\n",
      " - train/test split => test_size = 0.3\n",
      " - No    predictors normalization\n",
      " - model architecture: {'layer_1': {'n_units': 10, 'activation': 'relu'}, 'layer_2': {'n_units': 1}}\n",
      " - model training:\n",
      "   * epochs    = 50\n",
      "   * optimizer = adam\n",
      "   * loss      = mean_squared_error\n",
      "\n",
      "Train/test splitting for iteration 1\n",
      "  X_train.shape = (721, 8)\n",
      "  y_train.shape = (721,)\n",
      "  X_test.shape  = (309, 8)\n",
      "  y_test.shape  = (309,)\n",
      "     Cement  Blast Furnace Slag  Fly Ash  Water  Superplasticizer  \\\n",
      "870   149.0               139.0    109.0  193.0               6.0   \n",
      "875   155.0               183.0      0.0  193.0               9.0   \n",
      "488   387.0                20.0     94.0  157.0              14.3   \n",
      "10    198.6               132.4      0.0  192.0               0.0   \n",
      "391   397.0                17.2    158.0  167.0              20.8   \n",
      "\n",
      "     Coarse Aggregate  Fine Aggregate  Age  \n",
      "870             892.0           780.0   28  \n",
      "875            1047.0           697.0   28  \n",
      "488             938.0           845.0    3  \n",
      "10              978.4           825.5   90  \n",
      "391             967.0           633.0   28  \n",
      "\n",
      "Model summary for iteration 1\n",
      "Model: \"sequential_50\"\n",
      "_________________________________________________________________\n",
      "Layer (type)                 Output Shape              Param #   \n",
      "=================================================================\n",
      "dense_100 (Dense)            (None, 10)                90        \n",
      "_________________________________________________________________\n",
      "dense_101 (Dense)            (None, 1)                 11        \n",
      "=================================================================\n",
      "Total params: 101\n",
      "Trainable params: 101\n",
      "Non-trainable params: 0\n",
      "_________________________________________________________________\n",
      "\n",
      "\n",
      "1: sqrt(mse) = 30.266204288174567\n",
      "2: sqrt(mse) = 12.286022933761723\n",
      "3: sqrt(mse) = 39.346874736077794\n",
      "4: sqrt(mse) = 11.807070340197841\n",
      "5: sqrt(mse) = 12.16897371998306\n",
      "6: sqrt(mse) = 28.60782003157349\n",
      "7: sqrt(mse) = 10.770177414028751\n",
      "8: sqrt(mse) = 18.19012650292734\n",
      "9: sqrt(mse) = 28.74474192501325\n",
      "10: sqrt(mse) = 20.273084970319236\n",
      "11: sqrt(mse) = 11.275471868026974\n",
      "12: sqrt(mse) = 24.2363280918378\n",
      "13: sqrt(mse) = 13.274904069115756\n",
      "14: sqrt(mse) = 11.275984782185827\n",
      "15: sqrt(mse) = 10.785991729464644\n",
      "16: sqrt(mse) = 12.97544488556831\n",
      "17: sqrt(mse) = 12.640838841507037\n",
      "18: sqrt(mse) = 29.318436991988875\n",
      "19: sqrt(mse) = 22.518966636485143\n",
      "20: sqrt(mse) = 16.702190085457612\n",
      "21: sqrt(mse) = 38.30062006257052\n",
      "22: sqrt(mse) = 21.96831147180636\n",
      "23: sqrt(mse) = 17.075665726343942\n",
      "24: sqrt(mse) = 16.75094234534979\n",
      "25: sqrt(mse) = 11.478448023226353\n",
      "26: sqrt(mse) = 12.386424273674487\n",
      "27: sqrt(mse) = 32.46741474842888\n",
      "28: sqrt(mse) = 18.5562795271933\n",
      "29: sqrt(mse) = 10.528272566735218\n",
      "30: sqrt(mse) = 9.128833515712593\n",
      "31: sqrt(mse) = 11.843001113217067\n",
      "32: sqrt(mse) = 10.718086723992748\n",
      "33: sqrt(mse) = 11.442883565519056\n",
      "34: sqrt(mse) = 25.245144776000778\n",
      "35: sqrt(mse) = 22.170795462926606\n",
      "36: sqrt(mse) = 22.662316227873145\n",
      "37: sqrt(mse) = 12.057806337527468\n",
      "38: sqrt(mse) = 15.088744135096706\n",
      "39: sqrt(mse) = 11.045381877213313\n",
      "40: sqrt(mse) = 43.5172011601873\n",
      "41: sqrt(mse) = 34.78940988480746\n",
      "42: sqrt(mse) = 24.831602495355227\n",
      "43: sqrt(mse) = 14.941465208442182\n",
      "44: sqrt(mse) = 10.287997890456944\n",
      "45: sqrt(mse) = 18.98055581480151\n",
      "46: sqrt(mse) = 10.540044248751634\n",
      "47: sqrt(mse) = 11.388903559812269\n",
      "48: sqrt(mse) = 10.968071203132547\n",
      "49: sqrt(mse) = 12.598282064202245\n",
      "50: sqrt(mse) = 17.26119179566503\n",
      "\n"
     ]
    }
   ],
   "source": [
    "\n",
    "sq_mse_list_A = train_and_test_several_models(X = X,\n",
    "                                              y = y,\n",
    "                                              test_size   = test_size,\n",
    "                                              model_arch  = model_architecture1,\n",
    "                                              input_shape = input_shape,\n",
    "                                              optimizer   = \"adam\",\n",
    "                                              loss        = \"mean_squared_error\",\n",
    "                                              niterations = niterations,\n",
    "                                              epochs      = 50,\n",
    "                                              seed        = 345,\n",
    "                                              verbose     = 0,\n",
    "                                              pred_norm   = False,\n",
    "                                             )"
   ]
  },
  {
   "cell_type": "code",
   "execution_count": 32,
   "metadata": {
    "tags": []
   },
   "outputs": [
    {
     "data": {
      "text/html": [
       "<div>\n",
       "<style scoped>\n",
       "    .dataframe tbody tr th:only-of-type {\n",
       "        vertical-align: middle;\n",
       "    }\n",
       "\n",
       "    .dataframe tbody tr th {\n",
       "        vertical-align: top;\n",
       "    }\n",
       "\n",
       "    .dataframe thead th {\n",
       "        text-align: right;\n",
       "    }\n",
       "</style>\n",
       "<table border=\"1\" class=\"dataframe\">\n",
       "  <thead>\n",
       "    <tr style=\"text-align: right;\">\n",
       "      <th></th>\n",
       "      <th>Part</th>\n",
       "      <th>mean_sq_mse</th>\n",
       "      <th>std_sq_mse</th>\n",
       "    </tr>\n",
       "  </thead>\n",
       "  <tbody>\n",
       "    <tr>\n",
       "      <th>0</th>\n",
       "      <td>A</td>\n",
       "      <td>18.369715</td>\n",
       "      <td>8.708396</td>\n",
       "    </tr>\n",
       "  </tbody>\n",
       "</table>\n",
       "</div>"
      ],
      "text/plain": [
       "  Part  mean_sq_mse  std_sq_mse\n",
       "0    A    18.369715    8.708396"
      ]
     },
     "execution_count": 32,
     "metadata": {},
     "output_type": "execute_result"
    }
   ],
   "source": [
    "# 5. Report the mean and the standard deviation of the mean squared errors.\n",
    "\n",
    "# Calculate the mean and the standard deviation of the metric on the 50 samplings\n",
    "mean_sqmse_A = np.mean(sq_mse_list_A)\n",
    "std_sqmse_A  = np.std(sq_mse_list_A)\n",
    "\n",
    "# Generate a data frame to store the results of the differents parts of this project\n",
    "df_results = pd.DataFrame.from_dict({\"Part\": [\"A\"],\"mean_sq_mse\": [mean_sqmse_A], \"std_sq_mse\": [std_sqmse_A]})\n",
    "df_results"
   ]
  },
  {
   "cell_type": "markdown",
   "metadata": {
    "tags": []
   },
   "source": [
    "B. Normalize the data (5 marks) \n",
    "\n",
    "Repeat Part A but use a normalized version of the data. Recall that one way to normalize the data is by subtracting the mean from the individual predictors and dividing by the standard deviation.\n",
    "\n",
    "How does the mean of the mean squared errors compare to that from Step A?"
   ]
  },
  {
   "cell_type": "code",
   "execution_count": 33,
   "metadata": {
    "tags": []
   },
   "outputs": [
    {
     "name": "stdout",
     "output_type": "stream",
     "text": [
      "\n",
      "Launching 50 iterations of\n",
      " - train/test split => test_size = 0.3\n",
      " - Apply predictors normalization\n",
      " - model architecture: {'layer_1': {'n_units': 10, 'activation': 'relu'}, 'layer_2': {'n_units': 1}}\n",
      " - model training:\n",
      "   * epochs    = 50\n",
      "   * optimizer = adam\n",
      "   * loss      = mean_squared_error\n",
      "\n",
      "Train/test splitting for iteration 1\n",
      "  X_train.shape = (721, 8)\n",
      "  y_train.shape = (721,)\n",
      "  X_test.shape  = (309, 8)\n",
      "  y_test.shape  = (309,)\n",
      "       Cement  Blast Furnace Slag   Fly Ash     Water  Superplasticizer  \\\n",
      "723  0.260617           -0.863998 -0.825639  0.448707         -1.007613   \n",
      "112  1.477748            1.174001 -0.825639  0.163870          0.870100   \n",
      "278 -0.292281           -0.863998  1.058232  0.282552         -0.026465   \n",
      "641 -0.305490           -0.863998 -0.825639 -0.026021         -1.007613   \n",
      "270 -0.477209           -0.863998  1.110782 -0.405804          0.125781   \n",
      "\n",
      "     Coarse Aggregate  Fine Aggregate       Age  \n",
      "723          0.481434        0.718580 -0.271735  \n",
      "112         -1.145439       -0.775490 -0.608947  \n",
      "278          0.691353       -0.166115  0.884424  \n",
      "641          1.607829        0.596215 -0.608947  \n",
      "270          1.049752        0.088403 -0.496543  \n",
      "\n",
      "Model summary for iteration 1\n",
      "Model: \"sequential_100\"\n",
      "_________________________________________________________________\n",
      "Layer (type)                 Output Shape              Param #   \n",
      "=================================================================\n",
      "dense_200 (Dense)            (None, 10)                90        \n",
      "_________________________________________________________________\n",
      "dense_201 (Dense)            (None, 1)                 11        \n",
      "=================================================================\n",
      "Total params: 101\n",
      "Trainable params: 101\n",
      "Non-trainable params: 0\n",
      "_________________________________________________________________\n",
      "\n",
      "\n",
      "1: sqrt(mse) = 19.59419607179734\n",
      "2: sqrt(mse) = 19.91385476137385\n",
      "3: sqrt(mse) = 25.878053435060593\n",
      "4: sqrt(mse) = 28.12166972783161\n",
      "5: sqrt(mse) = 18.321851359616407\n",
      "6: sqrt(mse) = 15.866029116193454\n",
      "7: sqrt(mse) = 16.926590606351176\n",
      "8: sqrt(mse) = 17.064197445307617\n",
      "9: sqrt(mse) = 19.358477306063232\n",
      "10: sqrt(mse) = 20.14286214106534\n",
      "11: sqrt(mse) = 17.36909781648796\n",
      "12: sqrt(mse) = 19.706354768172297\n",
      "13: sqrt(mse) = 17.926231734128866\n",
      "14: sqrt(mse) = 22.58193665645396\n",
      "15: sqrt(mse) = 15.003773839191078\n",
      "16: sqrt(mse) = 19.154616126230735\n",
      "17: sqrt(mse) = 19.839522257446173\n",
      "18: sqrt(mse) = 15.87069084047239\n",
      "19: sqrt(mse) = 19.722184655028215\n",
      "20: sqrt(mse) = 19.11089296139258\n",
      "21: sqrt(mse) = 15.26212358516104\n",
      "22: sqrt(mse) = 17.323603987870253\n",
      "23: sqrt(mse) = 16.912992167669223\n",
      "24: sqrt(mse) = 18.105013689341515\n",
      "25: sqrt(mse) = 16.971947317681252\n",
      "26: sqrt(mse) = 22.382457811364656\n",
      "27: sqrt(mse) = 18.186026472458774\n",
      "28: sqrt(mse) = 18.750409880829775\n",
      "29: sqrt(mse) = 19.128431487645624\n",
      "30: sqrt(mse) = 15.560356349445389\n",
      "31: sqrt(mse) = 16.575357463565734\n",
      "32: sqrt(mse) = 19.058578133889775\n",
      "33: sqrt(mse) = 21.2060468176145\n",
      "34: sqrt(mse) = 22.06731554903552\n",
      "35: sqrt(mse) = 18.788537201420418\n",
      "36: sqrt(mse) = 23.993035245035\n",
      "37: sqrt(mse) = 18.472119555690895\n",
      "38: sqrt(mse) = 19.537182421294315\n",
      "39: sqrt(mse) = 15.250087784433761\n",
      "40: sqrt(mse) = 17.84814320086699\n",
      "41: sqrt(mse) = 16.494205134682776\n",
      "42: sqrt(mse) = 15.599246002787643\n",
      "43: sqrt(mse) = 19.5163923508607\n",
      "44: sqrt(mse) = 15.629433106464788\n",
      "45: sqrt(mse) = 20.391597368439925\n",
      "46: sqrt(mse) = 16.920871454618826\n",
      "47: sqrt(mse) = 16.915940562926995\n",
      "48: sqrt(mse) = 23.27343926833358\n",
      "49: sqrt(mse) = 14.748740520604201\n",
      "50: sqrt(mse) = 17.912218024740643\n",
      "\n"
     ]
    }
   ],
   "source": [
    "# Just launch the function above (train_and_test_several_models), but with pred_norm = True\n",
    "sq_mse_list_B = train_and_test_several_models(X = X,\n",
    "                                              y = y,\n",
    "                                              test_size   = test_size,\n",
    "                                              model_arch  = model_architecture1,\n",
    "                                              input_shape = input_shape,\n",
    "                                              optimizer   = \"adam\",\n",
    "                                              loss        = \"mean_squared_error\",\n",
    "                                              niterations = niterations,\n",
    "                                              epochs      = 50,\n",
    "                                              seed        = 3675,\n",
    "                                              verbose     = 0,\n",
    "                                              pred_norm   = True,\n",
    "                                             )"
   ]
  },
  {
   "cell_type": "code",
   "execution_count": 34,
   "metadata": {
    "tags": []
   },
   "outputs": [
    {
     "data": {
      "text/html": [
       "<div>\n",
       "<style scoped>\n",
       "    .dataframe tbody tr th:only-of-type {\n",
       "        vertical-align: middle;\n",
       "    }\n",
       "\n",
       "    .dataframe tbody tr th {\n",
       "        vertical-align: top;\n",
       "    }\n",
       "\n",
       "    .dataframe thead th {\n",
       "        text-align: right;\n",
       "    }\n",
       "</style>\n",
       "<table border=\"1\" class=\"dataframe\">\n",
       "  <thead>\n",
       "    <tr style=\"text-align: right;\">\n",
       "      <th></th>\n",
       "      <th>Part</th>\n",
       "      <th>mean_sq_mse</th>\n",
       "      <th>std_sq_mse</th>\n",
       "    </tr>\n",
       "  </thead>\n",
       "  <tbody>\n",
       "    <tr>\n",
       "      <th>0</th>\n",
       "      <td>A</td>\n",
       "      <td>18.369715</td>\n",
       "      <td>8.708396</td>\n",
       "    </tr>\n",
       "    <tr>\n",
       "      <th>1</th>\n",
       "      <td>B</td>\n",
       "      <td>18.725099</td>\n",
       "      <td>2.758979</td>\n",
       "    </tr>\n",
       "  </tbody>\n",
       "</table>\n",
       "</div>"
      ],
      "text/plain": [
       "  Part  mean_sq_mse  std_sq_mse\n",
       "0    A    18.369715    8.708396\n",
       "1    B    18.725099    2.758979"
      ]
     },
     "execution_count": 34,
     "metadata": {},
     "output_type": "execute_result"
    }
   ],
   "source": [
    "# Calculate the mean and the standard deviation of the metric on the 50 samplings\n",
    "mean_sqmse_B = np.mean(sq_mse_list_B)\n",
    "std_sqmse_B  = np.std(sq_mse_list_B)\n",
    "\n",
    "df_results.loc[df_results.shape[0]] = [\"B\",mean_sqmse_B,std_sqmse_B]\n",
    "df_results"
   ]
  },
  {
   "cell_type": "markdown",
   "metadata": {},
   "source": [
    "C. Increate the number of epochs (5 marks)\n",
    "\n",
    "Repeat Part B but use 100 epochs this time for training.\n",
    "\n",
    "How does the mean of the mean squared errors compare to that from Step B?"
   ]
  },
  {
   "cell_type": "code",
   "execution_count": 35,
   "metadata": {
    "tags": []
   },
   "outputs": [
    {
     "name": "stdout",
     "output_type": "stream",
     "text": [
      "\n",
      "Launching 50 iterations of\n",
      " - train/test split => test_size = 0.3\n",
      " - Apply predictors normalization\n",
      " - model architecture: {'layer_1': {'n_units': 10, 'activation': 'relu'}, 'layer_2': {'n_units': 1}}\n",
      " - model training:\n",
      "   * epochs    = 100\n",
      "   * optimizer = adam\n",
      "   * loss      = mean_squared_error\n",
      "\n",
      "Train/test splitting for iteration 1\n",
      "  X_train.shape = (721, 8)\n",
      "  y_train.shape = (721,)\n",
      "  X_test.shape  = (309, 8)\n",
      "  y_test.shape  = (309,)\n",
      "       Cement  Blast Furnace Slag   Fly Ash     Water  Superplasticizer  \\\n",
      "723  0.260617           -0.863998 -0.825639  0.448707         -1.007613   \n",
      "112  1.477748            1.174001 -0.825639  0.163870          0.870100   \n",
      "278 -0.292281           -0.863998  1.058232  0.282552         -0.026465   \n",
      "641 -0.305490           -0.863998 -0.825639 -0.026021         -1.007613   \n",
      "270 -0.477209           -0.863998  1.110782 -0.405804          0.125781   \n",
      "\n",
      "     Coarse Aggregate  Fine Aggregate       Age  \n",
      "723          0.481434        0.718580 -0.271735  \n",
      "112         -1.145439       -0.775490 -0.608947  \n",
      "278          0.691353       -0.166115  0.884424  \n",
      "641          1.607829        0.596215 -0.608947  \n",
      "270          1.049752        0.088403 -0.496543  \n",
      "\n",
      "Model summary for iteration 1\n",
      "Model: \"sequential_150\"\n",
      "_________________________________________________________________\n",
      "Layer (type)                 Output Shape              Param #   \n",
      "=================================================================\n",
      "dense_300 (Dense)            (None, 10)                90        \n",
      "_________________________________________________________________\n",
      "dense_301 (Dense)            (None, 1)                 11        \n",
      "=================================================================\n",
      "Total params: 101\n",
      "Trainable params: 101\n",
      "Non-trainable params: 0\n",
      "_________________________________________________________________\n",
      "\n",
      "\n",
      "1: sqrt(mse) = 13.315643876862246\n",
      "2: sqrt(mse) = 12.77038775842495\n",
      "3: sqrt(mse) = 13.65706425740786\n",
      "4: sqrt(mse) = 13.272234988100834\n",
      "5: sqrt(mse) = 13.196504039401892\n",
      "6: sqrt(mse) = 12.783362627512092\n",
      "7: sqrt(mse) = 11.941950940310493\n",
      "8: sqrt(mse) = 12.722857577766064\n",
      "9: sqrt(mse) = 14.126897423206943\n",
      "10: sqrt(mse) = 12.304990135668248\n",
      "11: sqrt(mse) = 12.63766178884582\n",
      "12: sqrt(mse) = 14.961250027556067\n",
      "13: sqrt(mse) = 12.21631022360255\n",
      "14: sqrt(mse) = 12.558372906948117\n",
      "15: sqrt(mse) = 12.626628327503118\n",
      "16: sqrt(mse) = 13.56603963716084\n",
      "17: sqrt(mse) = 13.213858500473114\n",
      "18: sqrt(mse) = 11.74816662453081\n",
      "19: sqrt(mse) = 13.822745305765537\n",
      "20: sqrt(mse) = 12.399133972514703\n",
      "21: sqrt(mse) = 13.26946065124307\n",
      "22: sqrt(mse) = 12.622429790604297\n",
      "23: sqrt(mse) = 13.010149459561042\n",
      "24: sqrt(mse) = 12.318084194613956\n",
      "25: sqrt(mse) = 12.079755180287227\n",
      "26: sqrt(mse) = 12.610033214731086\n",
      "27: sqrt(mse) = 12.603064199609843\n",
      "28: sqrt(mse) = 12.835740932349747\n",
      "29: sqrt(mse) = 13.268256956114582\n",
      "30: sqrt(mse) = 13.249303356714849\n",
      "31: sqrt(mse) = 12.647105514966764\n",
      "32: sqrt(mse) = 12.199140525730655\n",
      "33: sqrt(mse) = 12.22634057489953\n",
      "34: sqrt(mse) = 12.448144846908034\n",
      "35: sqrt(mse) = 12.222855583169135\n",
      "36: sqrt(mse) = 12.763540132283225\n",
      "37: sqrt(mse) = 13.418453280656486\n",
      "38: sqrt(mse) = 12.30818264816704\n",
      "39: sqrt(mse) = 13.644209101763822\n",
      "40: sqrt(mse) = 12.858126382266503\n",
      "41: sqrt(mse) = 13.225275131577467\n",
      "42: sqrt(mse) = 12.274894866225512\n",
      "43: sqrt(mse) = 14.493173928716962\n",
      "44: sqrt(mse) = 11.423128913092837\n",
      "45: sqrt(mse) = 13.502097916747799\n",
      "46: sqrt(mse) = 12.403169016098404\n",
      "47: sqrt(mse) = 12.409549705773257\n",
      "48: sqrt(mse) = 11.392256467108464\n",
      "49: sqrt(mse) = 12.849643448901688\n",
      "50: sqrt(mse) = 12.790494931497882\n",
      "\n"
     ]
    }
   ],
   "source": [
    "# Just launch the function above (train_and_test_several_models), but with pred_norm = True and epochs = 100\n",
    "sq_mse_list_C = train_and_test_several_models(X = X,\n",
    "                                              y = y,\n",
    "                                              test_size   = test_size,\n",
    "                                              model_arch  = model_architecture1,\n",
    "                                              input_shape = input_shape,\n",
    "                                              optimizer   = \"adam\",\n",
    "                                              loss        = \"mean_squared_error\",\n",
    "                                              niterations = niterations,\n",
    "                                              epochs      = 100,\n",
    "                                              seed        = 3675,\n",
    "                                              verbose     = 0,\n",
    "                                              pred_norm   = True,\n",
    "                                             )"
   ]
  },
  {
   "cell_type": "code",
   "execution_count": 36,
   "metadata": {
    "tags": []
   },
   "outputs": [
    {
     "data": {
      "text/html": [
       "<div>\n",
       "<style scoped>\n",
       "    .dataframe tbody tr th:only-of-type {\n",
       "        vertical-align: middle;\n",
       "    }\n",
       "\n",
       "    .dataframe tbody tr th {\n",
       "        vertical-align: top;\n",
       "    }\n",
       "\n",
       "    .dataframe thead th {\n",
       "        text-align: right;\n",
       "    }\n",
       "</style>\n",
       "<table border=\"1\" class=\"dataframe\">\n",
       "  <thead>\n",
       "    <tr style=\"text-align: right;\">\n",
       "      <th></th>\n",
       "      <th>Part</th>\n",
       "      <th>mean_sq_mse</th>\n",
       "      <th>std_sq_mse</th>\n",
       "    </tr>\n",
       "  </thead>\n",
       "  <tbody>\n",
       "    <tr>\n",
       "      <th>0</th>\n",
       "      <td>A</td>\n",
       "      <td>18.369715</td>\n",
       "      <td>8.708396</td>\n",
       "    </tr>\n",
       "    <tr>\n",
       "      <th>1</th>\n",
       "      <td>B</td>\n",
       "      <td>18.725099</td>\n",
       "      <td>2.758979</td>\n",
       "    </tr>\n",
       "    <tr>\n",
       "      <th>2</th>\n",
       "      <td>C</td>\n",
       "      <td>12.824162</td>\n",
       "      <td>0.698012</td>\n",
       "    </tr>\n",
       "  </tbody>\n",
       "</table>\n",
       "</div>"
      ],
      "text/plain": [
       "  Part  mean_sq_mse  std_sq_mse\n",
       "0    A    18.369715    8.708396\n",
       "1    B    18.725099    2.758979\n",
       "2    C    12.824162    0.698012"
      ]
     },
     "execution_count": 36,
     "metadata": {},
     "output_type": "execute_result"
    }
   ],
   "source": [
    "# Calculate the mean and the standard deviation of the metric on the 50 samplings\n",
    "mean_sqmse_C = np.mean(sq_mse_list_C)\n",
    "std_sqmse_C  = np.std(sq_mse_list_C)\n",
    "\n",
    "df_results.loc[df_results.shape[0]] = [\"C\",mean_sqmse_C,std_sqmse_C]\n",
    "df_results"
   ]
  },
  {
   "cell_type": "markdown",
   "metadata": {},
   "source": [
    "D. Increase the number of hidden layers (5 marks)\n",
    "\n",
    "Repeat part B but use a neural network with the following instead:\n",
    "\n",
    "- Three hidden layers, each of 10 nodes and ReLU activation function.\n",
    "\n",
    "How does the mean of the mean squared errors compare to that from Step B?"
   ]
  },
  {
   "cell_type": "code",
   "execution_count": 37,
   "metadata": {
    "tags": []
   },
   "outputs": [
    {
     "name": "stdout",
     "output_type": "stream",
     "text": [
      "\n",
      "input_shape    = (8,)\n",
      "network_config = {'layer_1': {'n_units': 10, 'activation': 'relu'}, 'layer_2': {'n_units': 10, 'activation': 'relu'}, 'layer_3': {'n_units': 10, 'activation': 'relu'}, 'layer_4': {'n_units': 1}}\n",
      "\n"
     ]
    }
   ],
   "source": [
    "# Define the new architecture\n",
    "# model architecture\n",
    "model_architecture2 = {\"layer_1\": {\"n_units\": 10, \"activation\": \"relu\"},\n",
    "                       \"layer_2\": {\"n_units\": 10, \"activation\": \"relu\"},\n",
    "                       \"layer_3\": {\"n_units\": 10, \"activation\": \"relu\"},\n",
    "                       \"layer_4\": {\"n_units\":  1},\n",
    "                      }\n",
    "\n",
    "print()\n",
    "print(\"input_shape    = {}\".format(input_shape))\n",
    "print(\"network_config = {}\".format(model_architecture2))\n",
    "print()"
   ]
  },
  {
   "cell_type": "code",
   "execution_count": 38,
   "metadata": {
    "tags": []
   },
   "outputs": [
    {
     "name": "stdout",
     "output_type": "stream",
     "text": [
      "\n",
      "Launching 50 iterations of\n",
      " - train/test split => test_size = 0.3\n",
      " - Apply predictors normalization\n",
      " - model architecture: {'layer_1': {'n_units': 10, 'activation': 'relu'}, 'layer_2': {'n_units': 10, 'activation': 'relu'}, 'layer_3': {'n_units': 10, 'activation': 'relu'}, 'layer_4': {'n_units': 1}}\n",
      " - model training:\n",
      "   * epochs    = 50\n",
      "   * optimizer = adam\n",
      "   * loss      = mean_squared_error\n",
      "\n",
      "Train/test splitting for iteration 1\n",
      "  X_train.shape = (721, 8)\n",
      "  y_train.shape = (721,)\n",
      "  X_test.shape  = (309, 8)\n",
      "  y_test.shape  = (309,)\n",
      "       Cement  Blast Furnace Slag   Fly Ash     Water  Superplasticizer  \\\n",
      "723  0.260617           -0.863998 -0.825639  0.448707         -1.007613   \n",
      "112  1.477748            1.174001 -0.825639  0.163870          0.870100   \n",
      "278 -0.292281           -0.863998  1.058232  0.282552         -0.026465   \n",
      "641 -0.305490           -0.863998 -0.825639 -0.026021         -1.007613   \n",
      "270 -0.477209           -0.863998  1.110782 -0.405804          0.125781   \n",
      "\n",
      "     Coarse Aggregate  Fine Aggregate       Age  \n",
      "723          0.481434        0.718580 -0.271735  \n",
      "112         -1.145439       -0.775490 -0.608947  \n",
      "278          0.691353       -0.166115  0.884424  \n",
      "641          1.607829        0.596215 -0.608947  \n",
      "270          1.049752        0.088403 -0.496543  \n",
      "\n",
      "Model summary for iteration 1\n",
      "Model: \"sequential_200\"\n",
      "_________________________________________________________________\n",
      "Layer (type)                 Output Shape              Param #   \n",
      "=================================================================\n",
      "dense_400 (Dense)            (None, 10)                90        \n",
      "_________________________________________________________________\n",
      "dense_401 (Dense)            (None, 10)                110       \n",
      "_________________________________________________________________\n",
      "dense_402 (Dense)            (None, 10)                110       \n",
      "_________________________________________________________________\n",
      "dense_403 (Dense)            (None, 1)                 11        \n",
      "=================================================================\n",
      "Total params: 321\n",
      "Trainable params: 321\n",
      "Non-trainable params: 0\n",
      "_________________________________________________________________\n",
      "\n",
      "\n",
      "1: sqrt(mse) = 10.14768022556799\n",
      "2: sqrt(mse) = 10.298932357141279\n",
      "3: sqrt(mse) = 11.822401051228926\n",
      "4: sqrt(mse) = 12.40539556514188\n",
      "5: sqrt(mse) = 10.020538227072073\n",
      "6: sqrt(mse) = 10.863963231122428\n",
      "7: sqrt(mse) = 10.724274196954136\n",
      "8: sqrt(mse) = 11.952858779994902\n",
      "9: sqrt(mse) = 11.513286543504824\n",
      "10: sqrt(mse) = 11.595918966997267\n",
      "11: sqrt(mse) = 11.202327963866237\n",
      "12: sqrt(mse) = 11.204513214269394\n",
      "13: sqrt(mse) = 10.67620127085305\n",
      "14: sqrt(mse) = 12.0262394197516\n",
      "15: sqrt(mse) = 10.726300569948245\n",
      "16: sqrt(mse) = 12.305444388286556\n",
      "17: sqrt(mse) = 12.07248035115326\n",
      "18: sqrt(mse) = 10.941003599457014\n",
      "19: sqrt(mse) = 11.672125821042828\n",
      "20: sqrt(mse) = 11.13956764726714\n",
      "21: sqrt(mse) = 12.109912255067375\n",
      "22: sqrt(mse) = 11.685193723193011\n",
      "23: sqrt(mse) = 11.811381670362783\n",
      "24: sqrt(mse) = 11.603816922516335\n",
      "25: sqrt(mse) = 11.12411318641293\n",
      "26: sqrt(mse) = 11.534702235740754\n",
      "27: sqrt(mse) = 11.135706492893785\n",
      "28: sqrt(mse) = 9.705189034542018\n",
      "29: sqrt(mse) = 11.477093224834043\n",
      "30: sqrt(mse) = 10.726608244426203\n",
      "31: sqrt(mse) = 10.931785471697504\n",
      "32: sqrt(mse) = 11.27570530301352\n",
      "33: sqrt(mse) = 11.60773737821011\n",
      "34: sqrt(mse) = 11.23055908850452\n",
      "35: sqrt(mse) = 10.57189207045028\n",
      "36: sqrt(mse) = 11.414254923072257\n",
      "37: sqrt(mse) = 11.07344502247903\n",
      "38: sqrt(mse) = 11.339414319410698\n",
      "39: sqrt(mse) = 11.343796055870746\n",
      "40: sqrt(mse) = 11.777034826249352\n",
      "41: sqrt(mse) = 12.07478135329619\n",
      "42: sqrt(mse) = 9.91783026379161\n",
      "43: sqrt(mse) = 11.023549199535925\n",
      "44: sqrt(mse) = 10.42413807066227\n",
      "45: sqrt(mse) = 12.265277215196093\n",
      "46: sqrt(mse) = 12.146930364607384\n",
      "47: sqrt(mse) = 11.237746552093396\n",
      "48: sqrt(mse) = 10.705493812761192\n",
      "49: sqrt(mse) = 10.074456462906674\n",
      "50: sqrt(mse) = 11.772465829003552\n",
      "\n"
     ]
    }
   ],
   "source": [
    "# Just launch the function above (train_and_test_several_models), but with pred_norm = True \n",
    "# and model_arch = model_architecture2 and epochs = 100\n",
    "sq_mse_list_D = train_and_test_several_models(X = X,\n",
    "                                              y = y,\n",
    "                                              test_size   = test_size,\n",
    "                                              model_arch  = model_architecture2,\n",
    "                                              input_shape = input_shape,\n",
    "                                              optimizer   = \"adam\",\n",
    "                                              loss        = \"mean_squared_error\",\n",
    "                                              niterations = niterations,\n",
    "                                              epochs      = 50,\n",
    "                                              seed        = 3675,\n",
    "                                              verbose     = 0,\n",
    "                                              pred_norm   = True,\n",
    "                                             )"
   ]
  },
  {
   "cell_type": "code",
   "execution_count": 39,
   "metadata": {
    "tags": []
   },
   "outputs": [
    {
     "data": {
      "text/html": [
       "<div>\n",
       "<style scoped>\n",
       "    .dataframe tbody tr th:only-of-type {\n",
       "        vertical-align: middle;\n",
       "    }\n",
       "\n",
       "    .dataframe tbody tr th {\n",
       "        vertical-align: top;\n",
       "    }\n",
       "\n",
       "    .dataframe thead th {\n",
       "        text-align: right;\n",
       "    }\n",
       "</style>\n",
       "<table border=\"1\" class=\"dataframe\">\n",
       "  <thead>\n",
       "    <tr style=\"text-align: right;\">\n",
       "      <th></th>\n",
       "      <th>Part</th>\n",
       "      <th>mean_sq_mse</th>\n",
       "      <th>std_sq_mse</th>\n",
       "    </tr>\n",
       "  </thead>\n",
       "  <tbody>\n",
       "    <tr>\n",
       "      <th>0</th>\n",
       "      <td>A</td>\n",
       "      <td>18.369715</td>\n",
       "      <td>8.708396</td>\n",
       "    </tr>\n",
       "    <tr>\n",
       "      <th>1</th>\n",
       "      <td>B</td>\n",
       "      <td>18.725099</td>\n",
       "      <td>2.758979</td>\n",
       "    </tr>\n",
       "    <tr>\n",
       "      <th>2</th>\n",
       "      <td>C</td>\n",
       "      <td>12.824162</td>\n",
       "      <td>0.698012</td>\n",
       "    </tr>\n",
       "    <tr>\n",
       "      <th>3</th>\n",
       "      <td>D</td>\n",
       "      <td>11.248669</td>\n",
       "      <td>0.661782</td>\n",
       "    </tr>\n",
       "  </tbody>\n",
       "</table>\n",
       "</div>"
      ],
      "text/plain": [
       "  Part  mean_sq_mse  std_sq_mse\n",
       "0    A    18.369715    8.708396\n",
       "1    B    18.725099    2.758979\n",
       "2    C    12.824162    0.698012\n",
       "3    D    11.248669    0.661782"
      ]
     },
     "execution_count": 39,
     "metadata": {},
     "output_type": "execute_result"
    }
   ],
   "source": [
    "# Calculate the mean and the standard deviation of the metric on the 50 samplings\n",
    "mean_sqmse_D = np.mean(sq_mse_list_D)\n",
    "std_sqmse_D  = np.std(sq_mse_list_D)\n",
    "\n",
    "df_results.loc[df_results.shape[0]] = [\"D\",mean_sqmse_D,std_sqmse_D]\n",
    "df_results"
   ]
  },
  {
   "cell_type": "markdown",
   "metadata": {},
   "source": [
    "<strong>You can refer to this [link](https://keras.io/models/sequential/) to learn about other functions that you can use for prediction or evaluation.</strong>\n"
   ]
  },
  {
   "cell_type": "markdown",
   "metadata": {},
   "source": [
    "Feel free to vary the following and note what impact each change has on the model's performance:\n",
    "\n",
    "1. Increase or decreate number of neurons in hidden layers\n",
    "2. Add more hidden layers\n",
    "3. Increase number of epochs\n"
   ]
  },
  {
   "cell_type": "markdown",
   "metadata": {},
   "source": [
    "### Thank you for completing this lab!\n",
    "\n",
    "This notebook was created by [Alex Aklson](https://www.linkedin.com/in/aklson/). I hope you found this lab interesting and educational. Feel free to contact me if you have any questions!\n"
   ]
  },
  {
   "cell_type": "markdown",
   "metadata": {},
   "source": [
    "\n",
    "## Change Log\n",
    "\n",
    "|  Date (YYYY-MM-DD) |  Version | Changed By  |  Change Description |\n",
    "|---|---|---|---|\n",
    "| 2020-09-21  | 2.0  | Srishti  |  Migrated Lab to Markdown and added to course repo in GitLab |\n",
    "\n",
    "\n",
    "\n",
    "<hr>\n",
    "\n",
    "## <h3 align=\"center\"> © IBM Corporation 2020. All rights reserved. <h3/>\n"
   ]
  },
  {
   "cell_type": "markdown",
   "metadata": {},
   "source": [
    "This notebook is part of a course on **Coursera** called *Introduction to Deep Learning & Neural Networks with Keras*. If you accessed this notebook outside the course, you can take this course online by clicking [here](https://cocl.us/DL0101EN_Coursera_Week3_LAB1).\n"
   ]
  },
  {
   "cell_type": "markdown",
   "metadata": {},
   "source": [
    "<hr>\n",
    "\n",
    "Copyright &copy; 2019 [IBM Developer Skills Network](https://cognitiveclass.ai/?utm_source=bducopyrightlink&utm_medium=dswb&utm_campaign=bdu). This notebook and its source code are released under the terms of the [MIT License](https://bigdatauniversity.com/mit-license/).\n"
   ]
  }
 ],
 "metadata": {
  "kernelspec": {
   "display_name": "Python",
   "language": "python",
   "name": "conda-env-python-py"
  },
  "language_info": {
   "codemirror_mode": {
    "name": "ipython",
    "version": 3
   },
   "file_extension": ".py",
   "mimetype": "text/x-python",
   "name": "python",
   "nbconvert_exporter": "python",
   "pygments_lexer": "ipython3",
   "version": "3.7.12"
  },
  "prev_pub_hash": "83687881d337faa1ef19930a5252431ac8ebd74923546c921f47fecec1b0d333"
 },
 "nbformat": 4,
 "nbformat_minor": 4
}
